{
 "cells": [
  {
   "cell_type": "code",
   "execution_count": 109,
   "id": "20020bb7",
   "metadata": {},
   "outputs": [],
   "source": [
    "#LOGEAR EN  PAGINA www.simmons.com.ec\n",
    "import unittest\n",
    "from selenium.webdriver.common.keys import Keys\n",
    "from selenium import webdriver\n",
    "import time\n",
    "\n",
    "\n",
    "driver=webdriver.Chrome(\"chromedriver.exe\")\n",
    "#URL a acceder con chromedriver\n",
    "driver.get(\"https://www.simmons.com.ec/mi-cuenta\")\n",
    "#busca elemento usuario para acceder a pagina\n",
    "usuario=driver.find_element_by_name('username')\n",
    "usuario.send_keys(\"gusecuador@hotmail.com\")\n",
    "time.sleep(2)\n",
    "#busca elemento para enviar contrasena\n",
    "pasw=driver.find_element_by_name('password')\n",
    "#envia valor para contrasena\n",
    "pasw.send_keys(\"12345\")\n",
    "time.sleep(2)\n",
    "#Equivale a presionar el boton\n",
    "pasw.send_keys(Keys.ENTER)\n",
    "\n",
    "\n"
   ]
  },
  {
   "cell_type": "code",
   "execution_count": 49,
   "id": "818bafaa",
   "metadata": {},
   "outputs": [],
   "source": [
    "#REGISTRARME EN  PAGINA www.simmons.com.ec\n",
    "\n",
    "#Para esto es necesario en Jupyther adicionar el chromedriver.exe y debe ser descargado de acuerdo a la version el Google Chrome\n",
    "driver=webdriver.Chrome(\"chromedriver.exe\")\n",
    "#Maximiza pantalla\n",
    "driver.maximize_window()\n",
    "#URL a acceder con chromedriver\n",
    "driver.get(\"https://www.simmons.com.ec/mi-cuenta\")\n",
    "\n",
    "boton=driver.find_element_by_css_selector(\"#customer_login > div.col-2.col-register-text > a\")\n",
    "time.sleep(2)\n",
    "boton.send_keys(Keys.ENTER)\n",
    "#busca correo a escribir\n",
    "correo=driver.find_element_by_name('email')\n",
    "#envia correo a registrar\n",
    "correo.send_keys(\"correo@hotmail.com\")\n",
    "#Espera 2 segundos\n",
    "time.sleep(2)\n",
    "#Da click en el boton\n",
    "registro=driver.find_element_by_name('register')\n",
    "registro.send_keys(Keys.ENTER)\n",
    "\n"
   ]
  },
  {
   "cell_type": "code",
   "execution_count": 118,
   "id": "5f3620b1",
   "metadata": {},
   "outputs": [],
   "source": [
    "#LOGEARME EN LINKEDID , OBTENER CREDENCIALES DESDE ARCHIVO CON PANDAS\n",
    "import pandas as pd\n",
    "import unittest\n",
    "from selenium.webdriver.common.keys import Keys\n",
    "from selenium import webdriver\n",
    "import time\n",
    "\n",
    "#Obtiene credenciales desde archivo csv ubicado en repositorio hithub\n",
    "df=pd.read_csv('https://raw.githubusercontent.com/gusecuador/tratamientoDatos/main/desafio2/datos.csv')\n",
    "\n",
    "#Para esto es necesario en Jupyther adicionar el chromedriver.exe y debe ser descargado de acuerdo a la version el Google Chrome\n",
    "driver=webdriver.Chrome(\"chromedriver.exe\")\n",
    "#Maximiza pantalla\n",
    "driver.maximize_window()\n",
    "\n",
    "#URL a acceder con chromedriver\n",
    "driver.get(\"https://www.linkedin.com/login/es?fromSignIn=true&trk=guest_homepage-basic_nav-header-signin\")\n",
    "#Busca elemento usuario por id\n",
    "usuario=driver.find_element_by_id('username')\n",
    "#Envia el usuario obtenido desde csv mediante pandas, csv reside en repositorio hitbub\n",
    "usuario.send_keys(df.usuario[0])\n",
    "#Espera 2 segundos para continuar con password\n",
    "time.sleep(2)\n",
    "#Busca elemento password por id\n",
    "pasword=driver.find_element_by_id('password')\n",
    "#Envia el password obtenido desde csv mediante pandas, csv reside en repositorio hitbub\n",
    "pasword.send_keys(df.contrasena[0])\n",
    "\n",
    "#Doy enter para loguearme a linkedin\n",
    "usuario.send_keys(Keys.ENTER)\n",
    "#PARA OMITIR E INGRESAR A LINKEDID\n",
    "#time.sleep(2)\n",
    "#omitir=driver.find_element_by_css_selector('#ember455 > button')\n",
    "#omitir.send_keys(Keys.ENTER)\n",
    "\n",
    "#DENTRO DE LINKED Preparo para escribir\n",
    "#Espera 2 segundos para continuar\n",
    "time.sleep(2)\n",
    "#Busca elemento para escribir publicacion\n",
    "muro=driver.find_element_by_id('ember43')\n",
    "muro.send_keys(Keys.ENTER)\n",
    "\n",
    "\n",
    "\n"
   ]
  },
  {
   "cell_type": "code",
   "execution_count": 115,
   "id": "5a0dc5b3",
   "metadata": {},
   "outputs": [
    {
     "data": {
      "text/plain": [
       "'pruebasciber2021@outlook.es'"
      ]
     },
     "execution_count": 115,
     "metadata": {},
     "output_type": "execute_result"
    }
   ],
   "source": [
    "df=pd.read_csv('https://raw.githubusercontent.com/gusecuador/tratamientoDatos/main/desafio2/datos.csv')\n",
    "df.usuario[0]"
   ]
  },
  {
   "cell_type": "code",
   "execution_count": null,
   "id": "7b7c6fd3",
   "metadata": {},
   "outputs": [],
   "source": []
  },
  {
   "cell_type": "code",
   "execution_count": null,
   "id": "5cea6969",
   "metadata": {},
   "outputs": [],
   "source": []
  }
 ],
 "metadata": {
  "kernelspec": {
   "display_name": "Python 3",
   "language": "python",
   "name": "python3"
  },
  "language_info": {
   "codemirror_mode": {
    "name": "ipython",
    "version": 3
   },
   "file_extension": ".py",
   "mimetype": "text/x-python",
   "name": "python",
   "nbconvert_exporter": "python",
   "pygments_lexer": "ipython3",
   "version": "3.8.8"
  }
 },
 "nbformat": 4,
 "nbformat_minor": 5
}
