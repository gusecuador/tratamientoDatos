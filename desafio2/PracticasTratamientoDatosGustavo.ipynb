{
  "nbformat": 4,
  "nbformat_minor": 5,
  "metadata": {
    "kernelspec": {
      "display_name": "Python 3",
      "language": "python",
      "name": "python3"
    },
    "language_info": {
      "codemirror_mode": {
        "name": "ipython",
        "version": 3
      },
      "file_extension": ".py",
      "mimetype": "text/x-python",
      "name": "python",
      "nbconvert_exporter": "python",
      "pygments_lexer": "ipython3",
      "version": "3.8.8"
    },
    "colab": {
      "name": "Copia de PracticasTratamientoDatos.ipynb",
      "provenance": [],
      "collapsed_sections": [],
      "include_colab_link": true
    }
  },
  "cells": [
    {
      "cell_type": "markdown",
      "metadata": {
        "id": "view-in-github",
        "colab_type": "text"
      },
      "source": [
        "<a href=\"https://colab.research.google.com/github/gusecuador/tratamientoDatos/blob/main/desafio2/PracticasTratamientoDatosGustavo.ipynb\" target=\"_parent\"><img src=\"https://colab.research.google.com/assets/colab-badge.svg\" alt=\"Open In Colab\"/></a>"
      ]
    },
    {
      "cell_type": "markdown",
      "metadata": {
        "id": "YOckT5LKFYD3"
      },
      "source": [
        "Adquisión de vacunas COVID 19 compradas/donadas por marca y forma de adquisisión"
      ],
      "id": "YOckT5LKFYD3"
    },
    {
      "cell_type": "code",
      "metadata": {
        "colab": {
          "base_uri": "https://localhost:8080/",
          "height": 203
        },
        "id": "7750f667",
        "outputId": "cc4b1e9e-d23c-46ac-87ce-83bcc4ad6380"
      },
      "source": [
        "import pandas as pd\n",
        "import matplotlib.pyplot as plt\n",
        "#Obtener datos desde repositorio dedicado a seguimiento de todo lo referente a COVID 19 en Ecuador\n",
        "datos = pd.read_csv('https://raw.githubusercontent.com/andrab/ecuacovid/master/datos_crudos/vacunas/fabricantes.csv')\n",
        "df=pd.DataFrame(datos)\n",
        "df.head()"
      ],
      "id": "7750f667",
      "execution_count": 10,
      "outputs": [
        {
          "output_type": "execute_result",
          "data": {
            "text/html": [
              "<div>\n",
              "<style scoped>\n",
              "    .dataframe tbody tr th:only-of-type {\n",
              "        vertical-align: middle;\n",
              "    }\n",
              "\n",
              "    .dataframe tbody tr th {\n",
              "        vertical-align: top;\n",
              "    }\n",
              "\n",
              "    .dataframe thead th {\n",
              "        text-align: right;\n",
              "    }\n",
              "</style>\n",
              "<table border=\"1\" class=\"dataframe\">\n",
              "  <thead>\n",
              "    <tr style=\"text-align: right;\">\n",
              "      <th></th>\n",
              "      <th>vaccine</th>\n",
              "      <th>total</th>\n",
              "      <th>arrived_at</th>\n",
              "      <th>contract</th>\n",
              "    </tr>\n",
              "  </thead>\n",
              "  <tbody>\n",
              "    <tr>\n",
              "      <th>0</th>\n",
              "      <td>Pfizer/BioNTech</td>\n",
              "      <td>8190</td>\n",
              "      <td>20/01/2021</td>\n",
              "      <td>Government of Ecuador with Pfizer</td>\n",
              "    </tr>\n",
              "    <tr>\n",
              "      <th>1</th>\n",
              "      <td>Pfizer/BioNTech</td>\n",
              "      <td>16380</td>\n",
              "      <td>17/02/2021</td>\n",
              "      <td>Government of Ecuador with Pfizer</td>\n",
              "    </tr>\n",
              "    <tr>\n",
              "      <th>2</th>\n",
              "      <td>Pfizer/BioNTech</td>\n",
              "      <td>17550</td>\n",
              "      <td>24/02/2021</td>\n",
              "      <td>Government of Ecuador with Pfizer</td>\n",
              "    </tr>\n",
              "    <tr>\n",
              "      <th>3</th>\n",
              "      <td>Pfizer/BioNTech</td>\n",
              "      <td>31590</td>\n",
              "      <td>03/03/2021</td>\n",
              "      <td>Government of Ecuador with Pfizer</td>\n",
              "    </tr>\n",
              "    <tr>\n",
              "      <th>4</th>\n",
              "      <td>Sinovac</td>\n",
              "      <td>20000</td>\n",
              "      <td>06/03/2021</td>\n",
              "      <td>Donation from the Government of Chile to the G...</td>\n",
              "    </tr>\n",
              "  </tbody>\n",
              "</table>\n",
              "</div>"
            ],
            "text/plain": [
              "           vaccine  ...                                           contract\n",
              "0  Pfizer/BioNTech  ...                  Government of Ecuador with Pfizer\n",
              "1  Pfizer/BioNTech  ...                  Government of Ecuador with Pfizer\n",
              "2  Pfizer/BioNTech  ...                  Government of Ecuador with Pfizer\n",
              "3  Pfizer/BioNTech  ...                  Government of Ecuador with Pfizer\n",
              "4          Sinovac  ...  Donation from the Government of Chile to the G...\n",
              "\n",
              "[5 rows x 4 columns]"
            ]
          },
          "metadata": {},
          "execution_count": 10
        }
      ]
    },
    {
      "cell_type": "markdown",
      "metadata": {
        "id": "BofQpgt0Iuhl"
      },
      "source": [
        "Tamaño del dataframe"
      ],
      "id": "BofQpgt0Iuhl"
    },
    {
      "cell_type": "code",
      "metadata": {
        "colab": {
          "base_uri": "https://localhost:8080/"
        },
        "id": "yHBHJ6-BHWGy",
        "outputId": "225be668-6dc9-4e9e-8d0a-ef4c132df251"
      },
      "source": [
        "df.shape"
      ],
      "id": "yHBHJ6-BHWGy",
      "execution_count": 6,
      "outputs": [
        {
          "output_type": "execute_result",
          "data": {
            "text/plain": [
              "(56, 4)"
            ]
          },
          "metadata": {},
          "execution_count": 6
        }
      ]
    },
    {
      "cell_type": "markdown",
      "metadata": {
        "id": "x1wKqm55KQ6c"
      },
      "source": [
        "Agrupamos vacunas por marca para graficar"
      ],
      "id": "x1wKqm55KQ6c"
    },
    {
      "cell_type": "code",
      "metadata": {
        "colab": {
          "base_uri": "https://localhost:8080/",
          "height": 403
        },
        "id": "53ecac27",
        "outputId": "bec76957-8097-4343-98cd-01777547d557"
      },
      "source": [
        "#Vamos a agrupar por marca de vacuna para graficar\n",
        "import matplotlib.pyplot as plt\n",
        "import time\n",
        "\n",
        "#plt.figure(figsize=(5,5))\n",
        "plt.ticklabel_format(style='plain')\n",
        "df.groupby('vaccine')['total'].sum().plot(kind='bar',legend='reverse',color={'yellow','blue','green','red'})\n",
        "plt.title(\"Vacunas contra COVID 19 arribadas a Ecuador hasta el: \" + str(time.localtime().tm_year ) + \"/\"+ str(time.localtime().tm_mon,) + \"/\"+ str(time.localtime().tm_mday))\n",
        "plt.ylabel(\"Cantidad\",{'color':\"green\"})\n",
        "plt.xlabel('Marcas',{'color':\"orange\"})\n",
        "plt.show\n"
      ],
      "id": "53ecac27",
      "execution_count": 35,
      "outputs": [
        {
          "output_type": "execute_result",
          "data": {
            "text/plain": [
              "<function matplotlib.pyplot.show>"
            ]
          },
          "metadata": {},
          "execution_count": 35
        },
        {
          "output_type": "display_data",
          "data": {
            "image/png": "[encoded data removed]",
            "text/plain": [
              "<Figure size 432x288 with 1 Axes>"
            ]
          },
          "metadata": {
            "needs_background": "light"
          }
        }
      ]
    },
    {
      "cell_type": "code",
      "metadata": {
        "colab": {
          "base_uri": "https://localhost:8080/",
          "height": 294
        },
        "id": "4ZnMgP2wBYfo",
        "outputId": "33605469-4559-4ffb-ad2a-464851bcb114"
      },
      "source": [
        "plt.ticklabel_format(style='plain')\n",
        "\n",
        "df.total.groupby(df.vaccine).sum().plot(kind='pie',cmap='Paired')\n",
        "plt.axis(\"equal\")\n",
        "plt.ylabel(\"\")\n",
        "plt.suptitle('Vacunas COVID que han llegado a Ecuador')"
      ],
      "id": "4ZnMgP2wBYfo",
      "execution_count": 24,
      "outputs": [
        {
          "output_type": "execute_result",
          "data": {
            "text/plain": [
              "Text(0.5, 0.98, 'Vacunas COVID que han llegado a Ecuador')"
            ]
          },
          "metadata": {},
          "execution_count": 24
        },
        {
          "output_type": "display_data",
          "data": {
            "image/png": "[encoded data removed]",
            "text/plain": [
              "<Figure size 432x288 with 1 Axes>"
            ]
          },
          "metadata": {}
        }
      ]
    },
    {
      "cell_type": "markdown",
      "metadata": {
        "id": "llPNWl_eUtBL"
      },
      "source": [
        "Utilizacion de plotly.express para graficar adquisición de vacunas COVID 19 agrupadas por marca."
      ],
      "id": "llPNWl_eUtBL"
    },
    {
      "cell_type": "code",
      "metadata": {
        "scrolled": true,
        "colab": {
          "base_uri": "https://localhost:8080/",
          "height": 542
        },
        "id": "0682dc8d",
        "outputId": "543c313f-433d-4c61-8966-e4e2433d369d"
      },
      "source": [
        "import plotly.express as px\n",
        "import matplotlib.pyplot as plt\n",
        "\n",
        "fig = px.pie(df, values='total', names='vaccine', title='Marcas de vacunas arribadas a Ecuador hasta el momento')\n",
        "fig.show()"
      ],
      "id": "0682dc8d",
      "execution_count": 27,
      "outputs": [
        {
          "output_type": "display_data",
          "data": {
            "text/html": [
              "<html>\n",
              "<head><meta charset=\"utf-8\" /></head>\n",
              "<body>\n",
              "    <div>\n",
              "            <script src=\"https://cdnjs.cloudflare.com/ajax/libs/mathjax/2.7.5/MathJax.js?config=TeX-AMS-MML_SVG\"></script><script type=\"text/javascript\">if (window.MathJax) {MathJax.Hub.Config({SVG: {font: \"STIX-Web\"}});}</script>\n",
              "                <script type=\"text/javascript\">window.PlotlyConfig = {MathJaxConfig: 'local'};</script>\n",
              "        <script src=\"https://cdn.plot.ly/plotly-latest.min.js\"></script>    \n",
              "            <div id=\"6020690b-e376-4093-bdb4-c00b13600047\" class=\"plotly-graph-div\" style=\"height:525px; width:100%;\"></div>\n",
              "            <script type=\"text/javascript\">\n",
              "                \n",
              "                    window.PLOTLYENV=window.PLOTLYENV || {};\n",
              "                    \n",
              "                if (document.getElementById(\"6020690b-e376-4093-bdb4-c00b13600047\")) {\n",
              "                    Plotly.newPlot(\n",
              "                        '6020690b-e376-4093-bdb4-c00b13600047',\n",
              "                        [{\"domain\": {\"x\": [0.0, 1.0], \"y\": [0.0, 1.0]}, \"hoverlabel\": {\"namelength\": 0}, \"hovertemplate\": \"vaccine=%{label}<br>total=%{value}\", \"labels\": [\"Pfizer/BioNTech\", \"Pfizer/BioNTech\", \"Pfizer/BioNTech\", \"Pfizer/BioNTech\", \"Sinovac\", \"Pfizer/BioNTech\", \"Oxford/AstraZeneca\", \"Pfizer/BioNTech\", \"Pfizer/BioNTech\", \"Pfizer/BioNTech\", \"Pfizer/BioNTech\", \"Sinovac\", \"Sinovac\", \"Pfizer/BioNTech\", \"Pfizer/BioNTech\", \"Oxford/AstraZeneca\", \"Pfizer/BioNTech\", \"Pfizer/BioNTech\", \"Pfizer/BioNTech\", \"Sinovac\", \"Pfizer/BioNTech\", \"Oxford/AstraZeneca\", \"Pfizer/BioNTech\", \"Sinovac\", \"Sinovac\", \"Pfizer/BioNTech\", \"Oxford/AstraZeneca\", \"Pfizer/BioNTech\", \"Oxford/AstraZeneca\", \"Pfizer/BioNTech\", \"Sinovac\", \"Oxford/AstraZeneca\", \"Pfizer/BioNTech\", \"Pfizer/BioNTech\", \"Pfizer/BioNTech\", \"Sinovac\", \"Sinovac\", \"Pfizer/BioNTech\", \"Sinovac\", \"Pfizer/BioNTech\", \"Pfizer/BioNTech\", \"Oxford/AstraZeneca\", \"Sinovac\", \"Pfizer/BioNTech\", \"Pfizer/BioNTech\", \"Pfizer/BioNTech\", \"CanSino\", \"Pfizer/BioNTech\", \"Pfizer/BioNTech\", \"Sinovac\", \"Oxford/AstraZeneca\", \"Pfizer/BioNTech\", \"CanSino\", \"Oxford/AstraZeneca\", \"CanSino\", \"Sinovac\"], \"legendgroup\": \"\", \"name\": \"\", \"showlegend\": true, \"type\": \"pie\", \"values\": [8190, 16380, 17550, 31590, 20000, 73710, 84000, 62010, 65520, 66690, 53820, 300000, 700000, 53820, 54990, 336000, 54990, 100620, 100689, 3520, 170820, 204000, 170820, 500000, 200000, 107640, 204000, 108810, 336000, 108810, 500000, 206000, 108810, 108810, 1000000, 2000000, 1500000, 59670, 500000, 76050, 379080, 278800, 3000000, 177840, 1000000, 255060, 200000, 271440, 204750, 2000000, 101760, 193050, 246000, 163200, 54000, 2000000]}],\n",
              "                        {\"legend\": {\"tracegroupgap\": 0}, \"template\": {\"data\": {\"bar\": [{\"error_x\": {\"color\": \"#2a3f5f\"}, \"error_y\": {\"color\": \"#2a3f5f\"}, \"marker\": {\"line\": {\"color\": \"#E5ECF6\", \"width\": 0.5}}, \"type\": \"bar\"}], \"barpolar\": [{\"marker\": {\"line\": {\"color\": \"#E5ECF6\", \"width\": 0.5}}, \"type\": \"barpolar\"}], \"carpet\": [{\"aaxis\": {\"endlinecolor\": \"#2a3f5f\", \"gridcolor\": \"white\", \"linecolor\": \"white\", \"minorgridcolor\": \"white\", \"startlinecolor\": \"#2a3f5f\"}, \"baxis\": {\"endlinecolor\": \"#2a3f5f\", \"gridcolor\": \"white\", \"linecolor\": \"white\", \"minorgridcolor\": \"white\", \"startlinecolor\": \"#2a3f5f\"}, \"type\": \"carpet\"}], \"choropleth\": [{\"colorbar\": {\"outlinewidth\": 0, \"ticks\": \"\"}, \"type\": \"choropleth\"}], \"contour\": [{\"colorbar\": {\"outlinewidth\": 0, \"ticks\": \"\"}, \"colorscale\": [[0.0, \"#0d0887\"], [0.1111111111111111, \"#46039f\"], [0.2222222222222222, \"#7201a8\"], [0.3333333333333333, \"#9c179e\"], [0.4444444444444444, \"#bd3786\"], [0.5555555555555556, \"#d8576b\"], [0.6666666666666666, \"#ed7953\"], [0.7777777777777778, \"#fb9f3a\"], [0.8888888888888888, \"#fdca26\"], [1.0, \"#f0f921\"]], \"type\": \"contour\"}], \"contourcarpet\": [{\"colorbar\": {\"outlinewidth\": 0, \"ticks\": \"\"}, \"type\": \"contourcarpet\"}], \"heatmap\": [{\"colorbar\": {\"outlinewidth\": 0, \"ticks\": \"\"}, \"colorscale\": [[0.0, \"#0d0887\"], [0.1111111111111111, \"#46039f\"], [0.2222222222222222, \"#7201a8\"], [0.3333333333333333, \"#9c179e\"], [0.4444444444444444, \"#bd3786\"], [0.5555555555555556, \"#d8576b\"], [0.6666666666666666, \"#ed7953\"], [0.7777777777777778, \"#fb9f3a\"], [0.8888888888888888, \"#fdca26\"], [1.0, \"#f0f921\"]], \"type\": \"heatmap\"}], \"heatmapgl\": [{\"colorbar\": {\"outlinewidth\": 0, \"ticks\": \"\"}, \"colorscale\": [[0.0, \"#0d0887\"], [0.1111111111111111, \"#46039f\"], [0.2222222222222222, \"#7201a8\"], [0.3333333333333333, \"#9c179e\"], [0.4444444444444444, \"#bd3786\"], [0.5555555555555556, \"#d8576b\"], [0.6666666666666666, \"#ed7953\"], [0.7777777777777778, \"#fb9f3a\"], [0.8888888888888888, \"#fdca26\"], [1.0, \"#f0f921\"]], \"type\": \"heatmapgl\"}], \"histogram\": [{\"marker\": {\"colorbar\": {\"outlinewidth\": 0, \"ticks\": \"\"}}, \"type\": \"histogram\"}], \"histogram2d\": [{\"colorbar\": {\"outlinewidth\": 0, \"ticks\": \"\"}, \"colorscale\": [[0.0, \"#0d0887\"], [0.1111111111111111, \"#46039f\"], [0.2222222222222222, \"#7201a8\"], [0.3333333333333333, \"#9c179e\"], [0.4444444444444444, \"#bd3786\"], [0.5555555555555556, \"#d8576b\"], [0.6666666666666666, \"#ed7953\"], [0.7777777777777778, \"#fb9f3a\"], [0.8888888888888888, \"#fdca26\"], [1.0, \"#f0f921\"]], \"type\": \"histogram2d\"}], \"histogram2dcontour\": [{\"colorbar\": {\"outlinewidth\": 0, \"ticks\": \"\"}, \"colorscale\": [[0.0, \"#0d0887\"], [0.1111111111111111, \"#46039f\"], [0.2222222222222222, \"#7201a8\"], [0.3333333333333333, \"#9c179e\"], [0.4444444444444444, \"#bd3786\"], [0.5555555555555556, \"#d8576b\"], [0.6666666666666666, \"#ed7953\"], [0.7777777777777778, \"#fb9f3a\"], [0.8888888888888888, \"#fdca26\"], [1.0, \"#f0f921\"]], \"type\": \"histogram2dcontour\"}], \"mesh3d\": [{\"colorbar\": {\"outlinewidth\": 0, \"ticks\": \"\"}, \"type\": \"mesh3d\"}], \"parcoords\": [{\"line\": {\"colorbar\": {\"outlinewidth\": 0, \"ticks\": \"\"}}, \"type\": \"parcoords\"}], \"pie\": [{\"automargin\": true, \"type\": \"pie\"}], \"scatter\": [{\"marker\": {\"colorbar\": {\"outlinewidth\": 0, \"ticks\": \"\"}}, \"type\": \"scatter\"}], \"scatter3d\": [{\"line\": {\"colorbar\": {\"outlinewidth\": 0, \"ticks\": \"\"}}, \"marker\": {\"colorbar\": {\"outlinewidth\": 0, \"ticks\": \"\"}}, \"type\": \"scatter3d\"}], \"scattercarpet\": [{\"marker\": {\"colorbar\": {\"outlinewidth\": 0, \"ticks\": \"\"}}, \"type\": \"scattercarpet\"}], \"scattergeo\": [{\"marker\": {\"colorbar\": {\"outlinewidth\": 0, \"ticks\": \"\"}}, \"type\": \"scattergeo\"}], \"scattergl\": [{\"marker\": {\"colorbar\": {\"outlinewidth\": 0, \"ticks\": \"\"}}, \"type\": \"scattergl\"}], \"scattermapbox\": [{\"marker\": {\"colorbar\": {\"outlinewidth\": 0, \"ticks\": \"\"}}, \"type\": \"scattermapbox\"}], \"scatterpolar\": [{\"marker\": {\"colorbar\": {\"outlinewidth\": 0, \"ticks\": \"\"}}, \"type\": \"scatterpolar\"}], \"scatterpolargl\": [{\"marker\": {\"colorbar\": {\"outlinewidth\": 0, \"ticks\": \"\"}}, \"type\": \"scatterpolargl\"}], \"scatterternary\": [{\"marker\": {\"colorbar\": {\"outlinewidth\": 0, \"ticks\": \"\"}}, \"type\": \"scatterternary\"}], \"surface\": [{\"colorbar\": {\"outlinewidth\": 0, \"ticks\": \"\"}, \"colorscale\": [[0.0, \"#0d0887\"], [0.1111111111111111, \"#46039f\"], [0.2222222222222222, \"#7201a8\"], [0.3333333333333333, \"#9c179e\"], [0.4444444444444444, \"#bd3786\"], [0.5555555555555556, \"#d8576b\"], [0.6666666666666666, \"#ed7953\"], [0.7777777777777778, \"#fb9f3a\"], [0.8888888888888888, \"#fdca26\"], [1.0, \"#f0f921\"]], \"type\": \"surface\"}], \"table\": [{\"cells\": {\"fill\": {\"color\": \"#EBF0F8\"}, \"line\": {\"color\": \"white\"}}, \"header\": {\"fill\": {\"color\": \"#C8D4E3\"}, \"line\": {\"color\": \"white\"}}, \"type\": \"table\"}]}, \"layout\": {\"annotationdefaults\": {\"arrowcolor\": \"#2a3f5f\", \"arrowhead\": 0, \"arrowwidth\": 1}, \"coloraxis\": {\"colorbar\": {\"outlinewidth\": 0, \"ticks\": \"\"}}, \"colorscale\": {\"diverging\": [[0, \"#8e0152\"], [0.1, \"#c51b7d\"], [0.2, \"#de77ae\"], [0.3, \"#f1b6da\"], [0.4, \"#fde0ef\"], [0.5, \"#f7f7f7\"], [0.6, \"#e6f5d0\"], [0.7, \"#b8e186\"], [0.8, \"#7fbc41\"], [0.9, \"#4d9221\"], [1, \"#276419\"]], \"sequential\": [[0.0, \"#0d0887\"], [0.1111111111111111, \"#46039f\"], [0.2222222222222222, \"#7201a8\"], [0.3333333333333333, \"#9c179e\"], [0.4444444444444444, \"#bd3786\"], [0.5555555555555556, \"#d8576b\"], [0.6666666666666666, \"#ed7953\"], [0.7777777777777778, \"#fb9f3a\"], [0.8888888888888888, \"#fdca26\"], [1.0, \"#f0f921\"]], \"sequentialminus\": [[0.0, \"#0d0887\"], [0.1111111111111111, \"#46039f\"], [0.2222222222222222, \"#7201a8\"], [0.3333333333333333, \"#9c179e\"], [0.4444444444444444, \"#bd3786\"], [0.5555555555555556, \"#d8576b\"], [0.6666666666666666, \"#ed7953\"], [0.7777777777777778, \"#fb9f3a\"], [0.8888888888888888, \"#fdca26\"], [1.0, \"#f0f921\"]]}, \"colorway\": [\"#636efa\", \"#EF553B\", \"#00cc96\", \"#ab63fa\", \"#FFA15A\", \"#19d3f3\", \"#FF6692\", \"#B6E880\", \"#FF97FF\", \"#FECB52\"], \"font\": {\"color\": \"#2a3f5f\"}, \"geo\": {\"bgcolor\": \"white\", \"lakecolor\": \"white\", \"landcolor\": \"#E5ECF6\", \"showlakes\": true, \"showland\": true, \"subunitcolor\": \"white\"}, \"hoverlabel\": {\"align\": \"left\"}, \"hovermode\": \"closest\", \"mapbox\": {\"style\": \"light\"}, \"paper_bgcolor\": \"white\", \"plot_bgcolor\": \"#E5ECF6\", \"polar\": {\"angularaxis\": {\"gridcolor\": \"white\", \"linecolor\": \"white\", \"ticks\": \"\"}, \"bgcolor\": \"#E5ECF6\", \"radialaxis\": {\"gridcolor\": \"white\", \"linecolor\": \"white\", \"ticks\": \"\"}}, \"scene\": {\"xaxis\": {\"backgroundcolor\": \"#E5ECF6\", \"gridcolor\": \"white\", \"gridwidth\": 2, \"linecolor\": \"white\", \"showbackground\": true, \"ticks\": \"\", \"zerolinecolor\": \"white\"}, \"yaxis\": {\"backgroundcolor\": \"#E5ECF6\", \"gridcolor\": \"white\", \"gridwidth\": 2, \"linecolor\": \"white\", \"showbackground\": true, \"ticks\": \"\", \"zerolinecolor\": \"white\"}, \"zaxis\": {\"backgroundcolor\": \"#E5ECF6\", \"gridcolor\": \"white\", \"gridwidth\": 2, \"linecolor\": \"white\", \"showbackground\": true, \"ticks\": \"\", \"zerolinecolor\": \"white\"}}, \"shapedefaults\": {\"line\": {\"color\": \"#2a3f5f\"}}, \"ternary\": {\"aaxis\": {\"gridcolor\": \"white\", \"linecolor\": \"white\", \"ticks\": \"\"}, \"baxis\": {\"gridcolor\": \"white\", \"linecolor\": \"white\", \"ticks\": \"\"}, \"bgcolor\": \"#E5ECF6\", \"caxis\": {\"gridcolor\": \"white\", \"linecolor\": \"white\", \"ticks\": \"\"}}, \"title\": {\"x\": 0.05}, \"xaxis\": {\"automargin\": true, \"gridcolor\": \"white\", \"linecolor\": \"white\", \"ticks\": \"\", \"title\": {\"standoff\": 15}, \"zerolinecolor\": \"white\", \"zerolinewidth\": 2}, \"yaxis\": {\"automargin\": true, \"gridcolor\": \"white\", \"linecolor\": \"white\", \"ticks\": \"\", \"title\": {\"standoff\": 15}, \"zerolinecolor\": \"white\", \"zerolinewidth\": 2}}}, \"title\": {\"text\": \"Marcas de vacunas arribadas a Ecuador hasta el momento\"}},\n",
              "                        {\"responsive\": true}\n",
              "                    ).then(function(){\n",
              "                            \n",
              "var gd = document.getElementById('6020690b-e376-4093-bdb4-c00b13600047');\n",
              "var x = new MutationObserver(function (mutations, observer) {{\n",
              "        var display = window.getComputedStyle(gd).display;\n",
              "        if (!display || display === 'none') {{\n",
              "            console.log([gd, 'removed!']);\n",
              "            Plotly.purge(gd);\n",
              "            observer.disconnect();\n",
              "        }}\n",
              "}});\n",
              "\n",
              "// Listen for the removal of the full notebook cells\n",
              "var notebookContainer = gd.closest('#notebook-container');\n",
              "if (notebookContainer) {{\n",
              "    x.observe(notebookContainer, {childList: true});\n",
              "}}\n",
              "\n",
              "// Listen for the clearing of the current output cell\n",
              "var outputEl = gd.closest('.output');\n",
              "if (outputEl) {{\n",
              "    x.observe(outputEl, {childList: true});\n",
              "}}\n",
              "\n",
              "                        })\n",
              "                };\n",
              "                \n",
              "            </script>\n",
              "        </div>\n",
              "</body>\n",
              "</html>"
            ]
          },
          "metadata": {}
        }
      ]
    },
    {
      "cell_type": "markdown",
      "metadata": {
        "id": "dvEBfZmBbsiY"
      },
      "source": [
        "Agrupacion por 2 columnas ordenado por cantidad de forma descendente."
      ],
      "id": "dvEBfZmBbsiY"
    },
    {
      "cell_type": "code",
      "metadata": {
        "scrolled": true,
        "colab": {
          "base_uri": "https://localhost:8080/",
          "height": 418
        },
        "id": "93ce3aea",
        "outputId": "6d982af9-1ac8-4a21-ab0c-c2e5651b5efb"
      },
      "source": [
        "#Agrupacion por 2 columnas ordenado por cantidad de forma descendente.\n",
        "resumen=df.groupby([\"vaccine\",\"contract\"]).sum('total').sort_values(by=['vaccine','total'], ascending=False)\n",
        "\n",
        "resumen\n"
      ],
      "id": "93ce3aea",
      "execution_count": 25,
      "outputs": [
        {
          "output_type": "execute_result",
          "data": {
            "text/html": [
              "<div>\n",
              "<style scoped>\n",
              "    .dataframe tbody tr th:only-of-type {\n",
              "        vertical-align: middle;\n",
              "    }\n",
              "\n",
              "    .dataframe tbody tr th {\n",
              "        vertical-align: top;\n",
              "    }\n",
              "\n",
              "    .dataframe thead th {\n",
              "        text-align: right;\n",
              "    }\n",
              "</style>\n",
              "<table border=\"1\" class=\"dataframe\">\n",
              "  <thead>\n",
              "    <tr style=\"text-align: right;\">\n",
              "      <th></th>\n",
              "      <th></th>\n",
              "      <th>total</th>\n",
              "    </tr>\n",
              "    <tr>\n",
              "      <th>vaccine</th>\n",
              "      <th>contract</th>\n",
              "      <th></th>\n",
              "    </tr>\n",
              "  </thead>\n",
              "  <tbody>\n",
              "    <tr>\n",
              "      <th rowspan=\"4\" valign=\"top\">Sinovac</th>\n",
              "      <th>Government of Ecuador with Sinovac</th>\n",
              "      <td>13000000</td>\n",
              "    </tr>\n",
              "    <tr>\n",
              "      <th>Donation from the Government of China to the Government of Ecuador</th>\n",
              "      <td>200000</td>\n",
              "    </tr>\n",
              "    <tr>\n",
              "      <th>Donation from the Government of Chile to the Government of Ecuador</th>\n",
              "      <td>20000</td>\n",
              "    </tr>\n",
              "    <tr>\n",
              "      <th>Managed by Conmebol and donation by Sinovac</th>\n",
              "      <td>3520</td>\n",
              "    </tr>\n",
              "    <tr>\n",
              "      <th rowspan=\"3\" valign=\"top\">Pfizer/BioNTech</th>\n",
              "      <th>Government of Ecuador with Pfizer</th>\n",
              "      <td>2882949</td>\n",
              "    </tr>\n",
              "    <tr>\n",
              "      <th>Donation from United States Government</th>\n",
              "      <td>2000000</td>\n",
              "    </tr>\n",
              "    <tr>\n",
              "      <th>Government of Ecuador with COVAX</th>\n",
              "      <td>379080</td>\n",
              "    </tr>\n",
              "    <tr>\n",
              "      <th rowspan=\"3\" valign=\"top\">Oxford/AstraZeneca</th>\n",
              "      <th>Government of Ecuador with AstraZeneca</th>\n",
              "      <td>1056000</td>\n",
              "    </tr>\n",
              "    <tr>\n",
              "      <th>Government of Ecuador with COVAX</th>\n",
              "      <td>756000</td>\n",
              "    </tr>\n",
              "    <tr>\n",
              "      <th>Government of Ecuador with COVAX (Spain donated)</th>\n",
              "      <td>101760</td>\n",
              "    </tr>\n",
              "    <tr>\n",
              "      <th>CanSino</th>\n",
              "      <th>Government of Ecuador with CanSino</th>\n",
              "      <td>500000</td>\n",
              "    </tr>\n",
              "  </tbody>\n",
              "</table>\n",
              "</div>"
            ],
            "text/plain": [
              "                                                                          total\n",
              "vaccine            contract                                                    \n",
              "Sinovac            Government of Ecuador with Sinovac                  13000000\n",
              "                   Donation from the Government of China to the Go...    200000\n",
              "                   Donation from the Government of Chile to the Go...     20000\n",
              "                   Managed by Conmebol and donation by Sinovac             3520\n",
              "Pfizer/BioNTech    Government of Ecuador with Pfizer                    2882949\n",
              "                   Donation from United States Government               2000000\n",
              "                   Government of Ecuador with COVAX                      379080\n",
              "Oxford/AstraZeneca Government of Ecuador with AstraZeneca               1056000\n",
              "                   Government of Ecuador with COVAX                      756000\n",
              "                   Government of Ecuador with COVAX (Spain donated)      101760\n",
              "CanSino            Government of Ecuador with CanSino                    500000"
            ]
          },
          "metadata": {},
          "execution_count": 25
        }
      ]
    },
    {
      "cell_type": "code",
      "metadata": {
        "colab": {
          "base_uri": "https://localhost:8080/",
          "height": 281
        },
        "id": "UOopTEs7lasw",
        "outputId": "3a5301e7-4c2f-4001-c145-5df3c7dec884"
      },
      "source": [
        "plt.ticklabel_format(style='plain')\n",
        "df.groupby('contract')['total'].sum().plot(kind='barh',legend='reverse',color={'yellow','blue','red','green','black','cyan','magenta'})\n",
        "plt.title('Cantidad de vacunas por Contrato/Donación')\n",
        "plt.ylabel('')\n",
        "plt.show()"
      ],
      "id": "UOopTEs7lasw",
      "execution_count": 36,
      "outputs": [
        {
          "output_type": "display_data",
          "data": {
            "image/png": "[encoded data removed]",
            "text/plain": [
              "<Figure size 432x288 with 1 Axes>"
            ]
          },
          "metadata": {
            "needs_background": "light"
          }
        }
      ]
    },
    {
      "cell_type": "markdown",
      "metadata": {
        "id": "WMQmi_3GcCDm"
      },
      "source": [
        "Cantidad de Vacunas agrupadas por la forma de adquisión."
      ],
      "id": "WMQmi_3GcCDm"
    },
    {
      "cell_type": "code",
      "metadata": {
        "colab": {
          "base_uri": "https://localhost:8080/",
          "height": 542
        },
        "id": "QAZF5VEQmfqQ",
        "outputId": "3547f1c9-e090-4240-e5c5-24808f0cd861"
      },
      "source": [
        "import plotly.express as px\n",
        "\n",
        "fig = px.pie(df, values='total', names='contract', title='Cantidad de vacunas por Contrato/Donación')\n",
        "fig.show()"
      ],
      "id": "QAZF5VEQmfqQ",
      "execution_count": 38,
      "outputs": [
        {
          "output_type": "display_data",
          "data": {
            "text/html": [
              "<html>\n",
              "<head><meta charset=\"utf-8\" /></head>\n",
              "<body>\n",
              "    <div>\n",
              "            <script src=\"https://cdnjs.cloudflare.com/ajax/libs/mathjax/2.7.5/MathJax.js?config=TeX-AMS-MML_SVG\"></script><script type=\"text/javascript\">if (window.MathJax) {MathJax.Hub.Config({SVG: {font: \"STIX-Web\"}});}</script>\n",
              "                <script type=\"text/javascript\">window.PlotlyConfig = {MathJaxConfig: 'local'};</script>\n",
              "        <script src=\"https://cdn.plot.ly/plotly-latest.min.js\"></script>    \n",
              "            <div id=\"9ca7d40c-abaf-41ee-b884-15c6d7611de3\" class=\"plotly-graph-div\" style=\"height:525px; width:100%;\"></div>\n",
              "            <script type=\"text/javascript\">\n",
              "                \n",
              "                    window.PLOTLYENV=window.PLOTLYENV || {};\n",
              "                    \n",
              "                if (document.getElementById(\"9ca7d40c-abaf-41ee-b884-15c6d7611de3\")) {\n",
              "                    Plotly.newPlot(\n",
              "                        '9ca7d40c-abaf-41ee-b884-15c6d7611de3',\n",
              "                        [{\"domain\": {\"x\": [0.0, 1.0], \"y\": [0.0, 1.0]}, \"hoverlabel\": {\"namelength\": 0}, \"hovertemplate\": \"contract=%{label}<br>total=%{value}\", \"labels\": [\"Government of Ecuador with Pfizer\", \"Government of Ecuador with Pfizer\", \"Government of Ecuador with Pfizer\", \"Government of Ecuador with Pfizer\", \"Donation from the Government of Chile to the Government of Ecuador\", \"Government of Ecuador with Pfizer\", \"Government of Ecuador with COVAX\", \"Government of Ecuador with Pfizer\", \"Government of Ecuador with Pfizer\", \"Government of Ecuador with Pfizer\", \"Government of Ecuador with Pfizer\", \"Government of Ecuador with Sinovac\", \"Government of Ecuador with Sinovac\", \"Government of Ecuador with Pfizer\", \"Government of Ecuador with Pfizer\", \"Government of Ecuador with COVAX\", \"Government of Ecuador with Pfizer\", \"Government of Ecuador with Pfizer\", \"Government of Ecuador with Pfizer\", \"Managed by Conmebol and donation by Sinovac\", \"Government of Ecuador with Pfizer\", \"Government of Ecuador with AstraZeneca\", \"Government of Ecuador with Pfizer\", \"Government of Ecuador with Sinovac\", \"Donation from the Government of China to the Government of Ecuador\", \"Government of Ecuador with Pfizer\", \"Government of Ecuador with AstraZeneca\", \"Government of Ecuador with Pfizer\", \"Government of Ecuador with COVAX\", \"Government of Ecuador with Pfizer\", \"Government of Ecuador with Sinovac\", \"Government of Ecuador with AstraZeneca\", \"Government of Ecuador with Pfizer\", \"Government of Ecuador with Pfizer\", \"Donation from United States Government\", \"Government of Ecuador with Sinovac\", \"Government of Ecuador with Sinovac\", \"Government of Ecuador with Pfizer\", \"Government of Ecuador with Sinovac\", \"Government of Ecuador with Pfizer\", \"Government of Ecuador with COVAX\", \"Government of Ecuador with AstraZeneca\", \"Government of Ecuador with Sinovac\", \"Government of Ecuador with Pfizer\", \"Donation from United States Government\", \"Government of Ecuador with Pfizer\", \"Government of Ecuador with CanSino\", \"Government of Ecuador with Pfizer\", \"Government of Ecuador with Pfizer\", \"Government of Ecuador with Sinovac\", \"Government of Ecuador with COVAX (Spain donated)\", \"Government of Ecuador with Pfizer\", \"Government of Ecuador with CanSino\", \"Government of Ecuador with AstraZeneca\", \"Government of Ecuador with CanSino\", \"Government of Ecuador with Sinovac\"], \"legendgroup\": \"\", \"name\": \"\", \"showlegend\": true, \"type\": \"pie\", \"values\": [8190, 16380, 17550, 31590, 20000, 73710, 84000, 62010, 65520, 66690, 53820, 300000, 700000, 53820, 54990, 336000, 54990, 100620, 100689, 3520, 170820, 204000, 170820, 500000, 200000, 107640, 204000, 108810, 336000, 108810, 500000, 206000, 108810, 108810, 1000000, 2000000, 1500000, 59670, 500000, 76050, 379080, 278800, 3000000, 177840, 1000000, 255060, 200000, 271440, 204750, 2000000, 101760, 193050, 246000, 163200, 54000, 2000000]}],\n",
              "                        {\"legend\": {\"tracegroupgap\": 0}, \"template\": {\"data\": {\"bar\": [{\"error_x\": {\"color\": \"#2a3f5f\"}, \"error_y\": {\"color\": \"#2a3f5f\"}, \"marker\": {\"line\": {\"color\": \"#E5ECF6\", \"width\": 0.5}}, \"type\": \"bar\"}], \"barpolar\": [{\"marker\": {\"line\": {\"color\": \"#E5ECF6\", \"width\": 0.5}}, \"type\": \"barpolar\"}], \"carpet\": [{\"aaxis\": {\"endlinecolor\": \"#2a3f5f\", \"gridcolor\": \"white\", \"linecolor\": \"white\", \"minorgridcolor\": \"white\", \"startlinecolor\": \"#2a3f5f\"}, \"baxis\": {\"endlinecolor\": \"#2a3f5f\", \"gridcolor\": \"white\", \"linecolor\": \"white\", \"minorgridcolor\": \"white\", \"startlinecolor\": \"#2a3f5f\"}, \"type\": \"carpet\"}], \"choropleth\": [{\"colorbar\": {\"outlinewidth\": 0, \"ticks\": \"\"}, \"type\": \"choropleth\"}], \"contour\": [{\"colorbar\": {\"outlinewidth\": 0, \"ticks\": \"\"}, \"colorscale\": [[0.0, \"#0d0887\"], [0.1111111111111111, \"#46039f\"], [0.2222222222222222, \"#7201a8\"], [0.3333333333333333, \"#9c179e\"], [0.4444444444444444, \"#bd3786\"], [0.5555555555555556, \"#d8576b\"], [0.6666666666666666, \"#ed7953\"], [0.7777777777777778, \"#fb9f3a\"], [0.8888888888888888, \"#fdca26\"], [1.0, \"#f0f921\"]], \"type\": \"contour\"}], \"contourcarpet\": [{\"colorbar\": {\"outlinewidth\": 0, \"ticks\": \"\"}, \"type\": \"contourcarpet\"}], \"heatmap\": [{\"colorbar\": {\"outlinewidth\": 0, \"ticks\": \"\"}, \"colorscale\": [[0.0, \"#0d0887\"], [0.1111111111111111, \"#46039f\"], [0.2222222222222222, \"#7201a8\"], [0.3333333333333333, \"#9c179e\"], [0.4444444444444444, \"#bd3786\"], [0.5555555555555556, \"#d8576b\"], [0.6666666666666666, \"#ed7953\"], [0.7777777777777778, \"#fb9f3a\"], [0.8888888888888888, \"#fdca26\"], [1.0, \"#f0f921\"]], \"type\": \"heatmap\"}], \"heatmapgl\": [{\"colorbar\": {\"outlinewidth\": 0, \"ticks\": \"\"}, \"colorscale\": [[0.0, \"#0d0887\"], [0.1111111111111111, \"#46039f\"], [0.2222222222222222, \"#7201a8\"], [0.3333333333333333, \"#9c179e\"], [0.4444444444444444, \"#bd3786\"], [0.5555555555555556, \"#d8576b\"], [0.6666666666666666, \"#ed7953\"], [0.7777777777777778, \"#fb9f3a\"], [0.8888888888888888, \"#fdca26\"], [1.0, \"#f0f921\"]], \"type\": \"heatmapgl\"}], \"histogram\": [{\"marker\": {\"colorbar\": {\"outlinewidth\": 0, \"ticks\": \"\"}}, \"type\": \"histogram\"}], \"histogram2d\": [{\"colorbar\": {\"outlinewidth\": 0, \"ticks\": \"\"}, \"colorscale\": [[0.0, \"#0d0887\"], [0.1111111111111111, \"#46039f\"], [0.2222222222222222, \"#7201a8\"], [0.3333333333333333, \"#9c179e\"], [0.4444444444444444, \"#bd3786\"], [0.5555555555555556, \"#d8576b\"], [0.6666666666666666, \"#ed7953\"], [0.7777777777777778, \"#fb9f3a\"], [0.8888888888888888, \"#fdca26\"], [1.0, \"#f0f921\"]], \"type\": \"histogram2d\"}], \"histogram2dcontour\": [{\"colorbar\": {\"outlinewidth\": 0, \"ticks\": \"\"}, \"colorscale\": [[0.0, \"#0d0887\"], [0.1111111111111111, \"#46039f\"], [0.2222222222222222, \"#7201a8\"], [0.3333333333333333, \"#9c179e\"], [0.4444444444444444, \"#bd3786\"], [0.5555555555555556, \"#d8576b\"], [0.6666666666666666, \"#ed7953\"], [0.7777777777777778, \"#fb9f3a\"], [0.8888888888888888, \"#fdca26\"], [1.0, \"#f0f921\"]], \"type\": \"histogram2dcontour\"}], \"mesh3d\": [{\"colorbar\": {\"outlinewidth\": 0, \"ticks\": \"\"}, \"type\": \"mesh3d\"}], \"parcoords\": [{\"line\": {\"colorbar\": {\"outlinewidth\": 0, \"ticks\": \"\"}}, \"type\": \"parcoords\"}], \"pie\": [{\"automargin\": true, \"type\": \"pie\"}], \"scatter\": [{\"marker\": {\"colorbar\": {\"outlinewidth\": 0, \"ticks\": \"\"}}, \"type\": \"scatter\"}], \"scatter3d\": [{\"line\": {\"colorbar\": {\"outlinewidth\": 0, \"ticks\": \"\"}}, \"marker\": {\"colorbar\": {\"outlinewidth\": 0, \"ticks\": \"\"}}, \"type\": \"scatter3d\"}], \"scattercarpet\": [{\"marker\": {\"colorbar\": {\"outlinewidth\": 0, \"ticks\": \"\"}}, \"type\": \"scattercarpet\"}], \"scattergeo\": [{\"marker\": {\"colorbar\": {\"outlinewidth\": 0, \"ticks\": \"\"}}, \"type\": \"scattergeo\"}], \"scattergl\": [{\"marker\": {\"colorbar\": {\"outlinewidth\": 0, \"ticks\": \"\"}}, \"type\": \"scattergl\"}], \"scattermapbox\": [{\"marker\": {\"colorbar\": {\"outlinewidth\": 0, \"ticks\": \"\"}}, \"type\": \"scattermapbox\"}], \"scatterpolar\": [{\"marker\": {\"colorbar\": {\"outlinewidth\": 0, \"ticks\": \"\"}}, \"type\": \"scatterpolar\"}], \"scatterpolargl\": [{\"marker\": {\"colorbar\": {\"outlinewidth\": 0, \"ticks\": \"\"}}, \"type\": \"scatterpolargl\"}], \"scatterternary\": [{\"marker\": {\"colorbar\": {\"outlinewidth\": 0, \"ticks\": \"\"}}, \"type\": \"scatterternary\"}], \"surface\": [{\"colorbar\": {\"outlinewidth\": 0, \"ticks\": \"\"}, \"colorscale\": [[0.0, \"#0d0887\"], [0.1111111111111111, \"#46039f\"], [0.2222222222222222, \"#7201a8\"], [0.3333333333333333, \"#9c179e\"], [0.4444444444444444, \"#bd3786\"], [0.5555555555555556, \"#d8576b\"], [0.6666666666666666, \"#ed7953\"], [0.7777777777777778, \"#fb9f3a\"], [0.8888888888888888, \"#fdca26\"], [1.0, \"#f0f921\"]], \"type\": \"surface\"}], \"table\": [{\"cells\": {\"fill\": {\"color\": \"#EBF0F8\"}, \"line\": {\"color\": \"white\"}}, \"header\": {\"fill\": {\"color\": \"#C8D4E3\"}, \"line\": {\"color\": \"white\"}}, \"type\": \"table\"}]}, \"layout\": {\"annotationdefaults\": {\"arrowcolor\": \"#2a3f5f\", \"arrowhead\": 0, \"arrowwidth\": 1}, \"coloraxis\": {\"colorbar\": {\"outlinewidth\": 0, \"ticks\": \"\"}}, \"colorscale\": {\"diverging\": [[0, \"#8e0152\"], [0.1, \"#c51b7d\"], [0.2, \"#de77ae\"], [0.3, \"#f1b6da\"], [0.4, \"#fde0ef\"], [0.5, \"#f7f7f7\"], [0.6, \"#e6f5d0\"], [0.7, \"#b8e186\"], [0.8, \"#7fbc41\"], [0.9, \"#4d9221\"], [1, \"#276419\"]], \"sequential\": [[0.0, \"#0d0887\"], [0.1111111111111111, \"#46039f\"], [0.2222222222222222, \"#7201a8\"], [0.3333333333333333, \"#9c179e\"], [0.4444444444444444, \"#bd3786\"], [0.5555555555555556, \"#d8576b\"], [0.6666666666666666, \"#ed7953\"], [0.7777777777777778, \"#fb9f3a\"], [0.8888888888888888, \"#fdca26\"], [1.0, \"#f0f921\"]], \"sequentialminus\": [[0.0, \"#0d0887\"], [0.1111111111111111, \"#46039f\"], [0.2222222222222222, \"#7201a8\"], [0.3333333333333333, \"#9c179e\"], [0.4444444444444444, \"#bd3786\"], [0.5555555555555556, \"#d8576b\"], [0.6666666666666666, \"#ed7953\"], [0.7777777777777778, \"#fb9f3a\"], [0.8888888888888888, \"#fdca26\"], [1.0, \"#f0f921\"]]}, \"colorway\": [\"#636efa\", \"#EF553B\", \"#00cc96\", \"#ab63fa\", \"#FFA15A\", \"#19d3f3\", \"#FF6692\", \"#B6E880\", \"#FF97FF\", \"#FECB52\"], \"font\": {\"color\": \"#2a3f5f\"}, \"geo\": {\"bgcolor\": \"white\", \"lakecolor\": \"white\", \"landcolor\": \"#E5ECF6\", \"showlakes\": true, \"showland\": true, \"subunitcolor\": \"white\"}, \"hoverlabel\": {\"align\": \"left\"}, \"hovermode\": \"closest\", \"mapbox\": {\"style\": \"light\"}, \"paper_bgcolor\": \"white\", \"plot_bgcolor\": \"#E5ECF6\", \"polar\": {\"angularaxis\": {\"gridcolor\": \"white\", \"linecolor\": \"white\", \"ticks\": \"\"}, \"bgcolor\": \"#E5ECF6\", \"radialaxis\": {\"gridcolor\": \"white\", \"linecolor\": \"white\", \"ticks\": \"\"}}, \"scene\": {\"xaxis\": {\"backgroundcolor\": \"#E5ECF6\", \"gridcolor\": \"white\", \"gridwidth\": 2, \"linecolor\": \"white\", \"showbackground\": true, \"ticks\": \"\", \"zerolinecolor\": \"white\"}, \"yaxis\": {\"backgroundcolor\": \"#E5ECF6\", \"gridcolor\": \"white\", \"gridwidth\": 2, \"linecolor\": \"white\", \"showbackground\": true, \"ticks\": \"\", \"zerolinecolor\": \"white\"}, \"zaxis\": {\"backgroundcolor\": \"#E5ECF6\", \"gridcolor\": \"white\", \"gridwidth\": 2, \"linecolor\": \"white\", \"showbackground\": true, \"ticks\": \"\", \"zerolinecolor\": \"white\"}}, \"shapedefaults\": {\"line\": {\"color\": \"#2a3f5f\"}}, \"ternary\": {\"aaxis\": {\"gridcolor\": \"white\", \"linecolor\": \"white\", \"ticks\": \"\"}, \"baxis\": {\"gridcolor\": \"white\", \"linecolor\": \"white\", \"ticks\": \"\"}, \"bgcolor\": \"#E5ECF6\", \"caxis\": {\"gridcolor\": \"white\", \"linecolor\": \"white\", \"ticks\": \"\"}}, \"title\": {\"x\": 0.05}, \"xaxis\": {\"automargin\": true, \"gridcolor\": \"white\", \"linecolor\": \"white\", \"ticks\": \"\", \"title\": {\"standoff\": 15}, \"zerolinecolor\": \"white\", \"zerolinewidth\": 2}, \"yaxis\": {\"automargin\": true, \"gridcolor\": \"white\", \"linecolor\": \"white\", \"ticks\": \"\", \"title\": {\"standoff\": 15}, \"zerolinecolor\": \"white\", \"zerolinewidth\": 2}}}, \"title\": {\"text\": \"Cantidad de vacunas por Contrato/Donaci\\u00f3n\"}},\n",
              "                        {\"responsive\": true}\n",
              "                    ).then(function(){\n",
              "                            \n",
              "var gd = document.getElementById('9ca7d40c-abaf-41ee-b884-15c6d7611de3');\n",
              "var x = new MutationObserver(function (mutations, observer) {{\n",
              "        var display = window.getComputedStyle(gd).display;\n",
              "        if (!display || display === 'none') {{\n",
              "            console.log([gd, 'removed!']);\n",
              "            Plotly.purge(gd);\n",
              "            observer.disconnect();\n",
              "        }}\n",
              "}});\n",
              "\n",
              "// Listen for the removal of the full notebook cells\n",
              "var notebookContainer = gd.closest('#notebook-container');\n",
              "if (notebookContainer) {{\n",
              "    x.observe(notebookContainer, {childList: true});\n",
              "}}\n",
              "\n",
              "// Listen for the clearing of the current output cell\n",
              "var outputEl = gd.closest('.output');\n",
              "if (outputEl) {{\n",
              "    x.observe(outputEl, {childList: true});\n",
              "}}\n",
              "\n",
              "                        })\n",
              "                };\n",
              "                \n",
              "            </script>\n",
              "        </div>\n",
              "</body>\n",
              "</html>"
            ]
          },
          "metadata": {}
        }
      ]
    },
    {
      "cell_type": "code",
      "metadata": {
        "id": "e6f8c34c"
      },
      "source": [
        "#cantidad de filas y columnas de matriz, en este caso 55 filas y 4 columnas\n",
        "df.shape\n"
      ],
      "id": "e6f8c34c",
      "execution_count": null,
      "outputs": []
    },
    {
      "cell_type": "markdown",
      "metadata": {
        "id": "cAJ2fMmgce9J"
      },
      "source": [
        "Cantidad de vacunas aplicadas en Ecuador"
      ],
      "id": "cAJ2fMmgce9J"
    },
    {
      "cell_type": "code",
      "metadata": {
        "colab": {
          "base_uri": "https://localhost:8080/",
          "height": 203
        },
        "id": "09066012",
        "outputId": "39446af5-7fb5-4e59-8b5d-972bc91e28f7"
      },
      "source": [
        "import pandas as pd2\n",
        "import matplotlib.pyplot as plt2\n",
        "import seaborn as sb\n",
        "\n",
        "datos2 = pd2.read_csv('https://raw.githubusercontent.com/andrab/ecuacovid/master/datos_crudos/vacunas/vacunas.csv')\n",
        "df2=pd2.DataFrame(datos2)\n",
        "df2.head()"
      ],
      "id": "09066012",
      "execution_count": 45,
      "outputs": [
        {
          "output_type": "execute_result",
          "data": {
            "text/html": [
              "<div>\n",
              "<style scoped>\n",
              "    .dataframe tbody tr th:only-of-type {\n",
              "        vertical-align: middle;\n",
              "    }\n",
              "\n",
              "    .dataframe tbody tr th {\n",
              "        vertical-align: top;\n",
              "    }\n",
              "\n",
              "    .dataframe thead th {\n",
              "        text-align: right;\n",
              "    }\n",
              "</style>\n",
              "<table border=\"1\" class=\"dataframe\">\n",
              "  <thead>\n",
              "    <tr style=\"text-align: right;\">\n",
              "      <th></th>\n",
              "      <th>fecha</th>\n",
              "      <th>dosis_total</th>\n",
              "      <th>primera_dosis</th>\n",
              "      <th>segunda_dosis</th>\n",
              "    </tr>\n",
              "  </thead>\n",
              "  <tbody>\n",
              "    <tr>\n",
              "      <th>0</th>\n",
              "      <td>21/01/2021</td>\n",
              "      <td>0</td>\n",
              "      <td>0</td>\n",
              "      <td>0</td>\n",
              "    </tr>\n",
              "    <tr>\n",
              "      <th>1</th>\n",
              "      <td>22/01/2021</td>\n",
              "      <td>108</td>\n",
              "      <td>108</td>\n",
              "      <td>0</td>\n",
              "    </tr>\n",
              "    <tr>\n",
              "      <th>2</th>\n",
              "      <td>27/01/2021</td>\n",
              "      <td>2982</td>\n",
              "      <td>2982</td>\n",
              "      <td>0</td>\n",
              "    </tr>\n",
              "    <tr>\n",
              "      <th>3</th>\n",
              "      <td>04/02/2021</td>\n",
              "      <td>6228</td>\n",
              "      <td>6228</td>\n",
              "      <td>0</td>\n",
              "    </tr>\n",
              "    <tr>\n",
              "      <th>4</th>\n",
              "      <td>17/02/2021</td>\n",
              "      <td>8190</td>\n",
              "      <td>6228</td>\n",
              "      <td>1962</td>\n",
              "    </tr>\n",
              "  </tbody>\n",
              "</table>\n",
              "</div>"
            ],
            "text/plain": [
              "        fecha  dosis_total  primera_dosis  segunda_dosis\n",
              "0  21/01/2021            0              0              0\n",
              "1  22/01/2021          108            108              0\n",
              "2  27/01/2021         2982           2982              0\n",
              "3  04/02/2021         6228           6228              0\n",
              "4  17/02/2021         8190           6228           1962"
            ]
          },
          "metadata": {},
          "execution_count": 45
        }
      ]
    },
    {
      "cell_type": "code",
      "metadata": {
        "colab": {
          "base_uri": "https://localhost:8080/"
        },
        "id": "ttYv4H2C9Me_",
        "outputId": "068cdc2c-53dd-4350-b883-3303f4c0b4b1"
      },
      "source": [
        "df2.columns"
      ],
      "id": "ttYv4H2C9Me_",
      "execution_count": 46,
      "outputs": [
        {
          "output_type": "execute_result",
          "data": {
            "text/plain": [
              "Index(['fecha', 'dosis_total', 'primera_dosis', 'segunda_dosis'], dtype='object')"
            ]
          },
          "metadata": {},
          "execution_count": 46
        }
      ]
    },
    {
      "cell_type": "code",
      "metadata": {
        "colab": {
          "base_uri": "https://localhost:8080/"
        },
        "id": "dOO3Qqga9U48",
        "outputId": "1f260c3c-67bc-450b-db22-79d5fde93222"
      },
      "source": [
        "df2.shape"
      ],
      "id": "dOO3Qqga9U48",
      "execution_count": 47,
      "outputs": [
        {
          "output_type": "execute_result",
          "data": {
            "text/plain": [
              "(138, 4)"
            ]
          },
          "metadata": {},
          "execution_count": 47
        }
      ]
    },
    {
      "cell_type": "code",
      "metadata": {
        "colab": {
          "base_uri": "https://localhost:8080/",
          "height": 295
        },
        "id": "TUnLu2aA9i0f",
        "outputId": "138e887d-24a8-4486-a2e2-7471a71f3bbf"
      },
      "source": [
        "df2.describe()"
      ],
      "id": "TUnLu2aA9i0f",
      "execution_count": 48,
      "outputs": [
        {
          "output_type": "execute_result",
          "data": {
            "text/html": [
              "<div>\n",
              "<style scoped>\n",
              "    .dataframe tbody tr th:only-of-type {\n",
              "        vertical-align: middle;\n",
              "    }\n",
              "\n",
              "    .dataframe tbody tr th {\n",
              "        vertical-align: top;\n",
              "    }\n",
              "\n",
              "    .dataframe thead th {\n",
              "        text-align: right;\n",
              "    }\n",
              "</style>\n",
              "<table border=\"1\" class=\"dataframe\">\n",
              "  <thead>\n",
              "    <tr style=\"text-align: right;\">\n",
              "      <th></th>\n",
              "      <th>dosis_total</th>\n",
              "      <th>primera_dosis</th>\n",
              "      <th>segunda_dosis</th>\n",
              "    </tr>\n",
              "  </thead>\n",
              "  <tbody>\n",
              "    <tr>\n",
              "      <th>count</th>\n",
              "      <td>1.380000e+02</td>\n",
              "      <td>1.380000e+02</td>\n",
              "      <td>1.380000e+02</td>\n",
              "    </tr>\n",
              "    <tr>\n",
              "      <th>mean</th>\n",
              "      <td>4.552963e+06</td>\n",
              "      <td>3.238966e+06</td>\n",
              "      <td>1.313997e+06</td>\n",
              "    </tr>\n",
              "    <tr>\n",
              "      <th>std</th>\n",
              "      <td>4.960691e+06</td>\n",
              "      <td>3.467051e+06</td>\n",
              "      <td>1.606392e+06</td>\n",
              "    </tr>\n",
              "    <tr>\n",
              "      <th>min</th>\n",
              "      <td>0.000000e+00</td>\n",
              "      <td>0.000000e+00</td>\n",
              "      <td>0.000000e+00</td>\n",
              "    </tr>\n",
              "    <tr>\n",
              "      <th>25%</th>\n",
              "      <td>6.844335e+05</td>\n",
              "      <td>4.936065e+05</td>\n",
              "      <td>1.908270e+05</td>\n",
              "    </tr>\n",
              "    <tr>\n",
              "      <th>50%</th>\n",
              "      <td>2.488554e+06</td>\n",
              "      <td>1.679576e+06</td>\n",
              "      <td>8.089770e+05</td>\n",
              "    </tr>\n",
              "    <tr>\n",
              "      <th>75%</th>\n",
              "      <td>7.514230e+06</td>\n",
              "      <td>5.659702e+06</td>\n",
              "      <td>1.854528e+06</td>\n",
              "    </tr>\n",
              "    <tr>\n",
              "      <th>max</th>\n",
              "      <td>1.706771e+07</td>\n",
              "      <td>9.970890e+06</td>\n",
              "      <td>7.096816e+06</td>\n",
              "    </tr>\n",
              "  </tbody>\n",
              "</table>\n",
              "</div>"
            ],
            "text/plain": [
              "        dosis_total  primera_dosis  segunda_dosis\n",
              "count  1.380000e+02   1.380000e+02   1.380000e+02\n",
              "mean   4.552963e+06   3.238966e+06   1.313997e+06\n",
              "std    4.960691e+06   3.467051e+06   1.606392e+06\n",
              "min    0.000000e+00   0.000000e+00   0.000000e+00\n",
              "25%    6.844335e+05   4.936065e+05   1.908270e+05\n",
              "50%    2.488554e+06   1.679576e+06   8.089770e+05\n",
              "75%    7.514230e+06   5.659702e+06   1.854528e+06\n",
              "max    1.706771e+07   9.970890e+06   7.096816e+06"
            ]
          },
          "metadata": {},
          "execution_count": 48
        }
      ]
    },
    {
      "cell_type": "code",
      "metadata": {
        "id": "QSbcBltjekyk"
      },
      "source": [
        ""
      ],
      "id": "QSbcBltjekyk",
      "execution_count": null,
      "outputs": []
    },
    {
      "cell_type": "markdown",
      "metadata": {
        "id": "MjpvTdDremU9"
      },
      "source": [
        "Cantidad total de dosis aplicadas es la suma de primera dosis + segunda dosis."
      ],
      "id": "MjpvTdDremU9"
    },
    {
      "cell_type": "code",
      "metadata": {
        "colab": {
          "base_uri": "https://localhost:8080/",
          "height": 522
        },
        "id": "FoV8ypbW-UDT",
        "outputId": "051c9c61-9971-4a36-b578-a6292fb33049"
      },
      "source": [
        "import plotly.express as px\n",
        "import pandas as pd\n",
        "import matplotlib.pyplot as plt\n",
        "plt.ticklabel_format(style='plain')\n",
        "df=df2.T\n",
        "df=df.drop(['fecha'])\n",
        "df=df.reset_index()\n",
        "df=df.rename({'index':'dosis',137:'Total'},axis=1)\n",
        "plt.stem(df['dosis'],df['Total'])\n",
        "plt.title('Cantidad de dosis aplicadas:dosis_total=primera_dosis + segunda_dosis')\n",
        "plt.show()\n",
        "df.head()\n",
        "df\n"
      ],
      "id": "FoV8ypbW-UDT",
      "execution_count": 51,
      "outputs": [
        {
          "output_type": "stream",
          "text": [
            "/usr/local/lib/python3.7/dist-packages/ipykernel_launcher.py:9: UserWarning:\n",
            "\n",
            "In Matplotlib 3.3 individual lines on a stem plot will be added as a LineCollection instead of individual lines. This significantly improves the performance of a stem plot. To remove this warning and switch to the new behaviour, set the \"use_line_collection\" keyword argument to True.\n",
            "\n"
          ],
          "name": "stderr"
        },
        {
          "output_type": "display_data",
          "data": {
            "image/png": "[encoded data removed]",
            "text/plain": [
              "<Figure size 432x288 with 1 Axes>"
            ]
          },
          "metadata": {
            "needs_background": "light"
          }
        },
        {
          "output_type": "execute_result",
          "data": {
            "text/html": [
              "<div>\n",
              "<style scoped>\n",
              "    .dataframe tbody tr th:only-of-type {\n",
              "        vertical-align: middle;\n",
              "    }\n",
              "\n",
              "    .dataframe tbody tr th {\n",
              "        vertical-align: top;\n",
              "    }\n",
              "\n",
              "    .dataframe thead th {\n",
              "        text-align: right;\n",
              "    }\n",
              "</style>\n",
              "<table border=\"1\" class=\"dataframe\">\n",
              "  <thead>\n",
              "    <tr style=\"text-align: right;\">\n",
              "      <th></th>\n",
              "      <th>dosis</th>\n",
              "      <th>0</th>\n",
              "      <th>1</th>\n",
              "      <th>2</th>\n",
              "      <th>3</th>\n",
              "      <th>4</th>\n",
              "      <th>5</th>\n",
              "      <th>6</th>\n",
              "      <th>7</th>\n",
              "      <th>8</th>\n",
              "      <th>9</th>\n",
              "      <th>10</th>\n",
              "      <th>11</th>\n",
              "      <th>12</th>\n",
              "      <th>13</th>\n",
              "      <th>14</th>\n",
              "      <th>15</th>\n",
              "      <th>16</th>\n",
              "      <th>17</th>\n",
              "      <th>18</th>\n",
              "      <th>19</th>\n",
              "      <th>20</th>\n",
              "      <th>21</th>\n",
              "      <th>22</th>\n",
              "      <th>23</th>\n",
              "      <th>24</th>\n",
              "      <th>25</th>\n",
              "      <th>26</th>\n",
              "      <th>27</th>\n",
              "      <th>28</th>\n",
              "      <th>29</th>\n",
              "      <th>30</th>\n",
              "      <th>31</th>\n",
              "      <th>32</th>\n",
              "      <th>33</th>\n",
              "      <th>34</th>\n",
              "      <th>35</th>\n",
              "      <th>36</th>\n",
              "      <th>37</th>\n",
              "      <th>38</th>\n",
              "      <th>...</th>\n",
              "      <th>98</th>\n",
              "      <th>99</th>\n",
              "      <th>100</th>\n",
              "      <th>101</th>\n",
              "      <th>102</th>\n",
              "      <th>103</th>\n",
              "      <th>104</th>\n",
              "      <th>105</th>\n",
              "      <th>106</th>\n",
              "      <th>107</th>\n",
              "      <th>108</th>\n",
              "      <th>109</th>\n",
              "      <th>110</th>\n",
              "      <th>111</th>\n",
              "      <th>112</th>\n",
              "      <th>113</th>\n",
              "      <th>114</th>\n",
              "      <th>115</th>\n",
              "      <th>116</th>\n",
              "      <th>117</th>\n",
              "      <th>118</th>\n",
              "      <th>119</th>\n",
              "      <th>120</th>\n",
              "      <th>121</th>\n",
              "      <th>122</th>\n",
              "      <th>123</th>\n",
              "      <th>124</th>\n",
              "      <th>125</th>\n",
              "      <th>126</th>\n",
              "      <th>127</th>\n",
              "      <th>128</th>\n",
              "      <th>129</th>\n",
              "      <th>130</th>\n",
              "      <th>131</th>\n",
              "      <th>132</th>\n",
              "      <th>133</th>\n",
              "      <th>134</th>\n",
              "      <th>135</th>\n",
              "      <th>136</th>\n",
              "      <th>Total</th>\n",
              "    </tr>\n",
              "  </thead>\n",
              "  <tbody>\n",
              "    <tr>\n",
              "      <th>0</th>\n",
              "      <td>dosis_total</td>\n",
              "      <td>0</td>\n",
              "      <td>108</td>\n",
              "      <td>2982</td>\n",
              "      <td>6228</td>\n",
              "      <td>8190</td>\n",
              "      <td>24492</td>\n",
              "      <td>42114</td>\n",
              "      <td>59316</td>\n",
              "      <td>71148</td>\n",
              "      <td>74472</td>\n",
              "      <td>75258</td>\n",
              "      <td>95915</td>\n",
              "      <td>123176</td>\n",
              "      <td>139359</td>\n",
              "      <td>141191</td>\n",
              "      <td>178970</td>\n",
              "      <td>182261</td>\n",
              "      <td>191179</td>\n",
              "      <td>230770</td>\n",
              "      <td>235000</td>\n",
              "      <td>244866</td>\n",
              "      <td>283106</td>\n",
              "      <td>301069</td>\n",
              "      <td>335093</td>\n",
              "      <td>356783</td>\n",
              "      <td>363255</td>\n",
              "      <td>480962</td>\n",
              "      <td>485132</td>\n",
              "      <td>514151</td>\n",
              "      <td>545132</td>\n",
              "      <td>554369</td>\n",
              "      <td>577711</td>\n",
              "      <td>601229</td>\n",
              "      <td>643702</td>\n",
              "      <td>675510</td>\n",
              "      <td>711204</td>\n",
              "      <td>732717</td>\n",
              "      <td>743937</td>\n",
              "      <td>765489</td>\n",
              "      <td>...</td>\n",
              "      <td>5619115</td>\n",
              "      <td>5786147</td>\n",
              "      <td>6383862</td>\n",
              "      <td>6890876</td>\n",
              "      <td>7281701</td>\n",
              "      <td>7591739</td>\n",
              "      <td>7882979</td>\n",
              "      <td>8178327</td>\n",
              "      <td>8467877</td>\n",
              "      <td>8707304</td>\n",
              "      <td>9055887</td>\n",
              "      <td>9295351</td>\n",
              "      <td>9510668</td>\n",
              "      <td>9677880</td>\n",
              "      <td>9880401</td>\n",
              "      <td>10051176</td>\n",
              "      <td>10295022</td>\n",
              "      <td>10584021</td>\n",
              "      <td>10929785</td>\n",
              "      <td>11221939</td>\n",
              "      <td>11419806</td>\n",
              "      <td>11732461</td>\n",
              "      <td>11917800</td>\n",
              "      <td>12138621</td>\n",
              "      <td>12384109</td>\n",
              "      <td>12649538</td>\n",
              "      <td>12883619</td>\n",
              "      <td>13351482</td>\n",
              "      <td>14097131</td>\n",
              "      <td>14363025</td>\n",
              "      <td>14578314</td>\n",
              "      <td>14684326</td>\n",
              "      <td>14742430</td>\n",
              "      <td>15516237</td>\n",
              "      <td>15879437</td>\n",
              "      <td>16235098</td>\n",
              "      <td>16500237</td>\n",
              "      <td>16693126</td>\n",
              "      <td>16835733</td>\n",
              "      <td>17067706</td>\n",
              "    </tr>\n",
              "    <tr>\n",
              "      <th>1</th>\n",
              "      <td>primera_dosis</td>\n",
              "      <td>0</td>\n",
              "      <td>108</td>\n",
              "      <td>2982</td>\n",
              "      <td>6228</td>\n",
              "      <td>6228</td>\n",
              "      <td>20784</td>\n",
              "      <td>35886</td>\n",
              "      <td>53088</td>\n",
              "      <td>64920</td>\n",
              "      <td>68244</td>\n",
              "      <td>69030</td>\n",
              "      <td>89687</td>\n",
              "      <td>116948</td>\n",
              "      <td>119222</td>\n",
              "      <td>121054</td>\n",
              "      <td>140765</td>\n",
              "      <td>143614</td>\n",
              "      <td>152526</td>\n",
              "      <td>172413</td>\n",
              "      <td>174642</td>\n",
              "      <td>182329</td>\n",
              "      <td>204902</td>\n",
              "      <td>211720</td>\n",
              "      <td>228504</td>\n",
              "      <td>244159</td>\n",
              "      <td>250631</td>\n",
              "      <td>338180</td>\n",
              "      <td>338180</td>\n",
              "      <td>354019</td>\n",
              "      <td>377199</td>\n",
              "      <td>384093</td>\n",
              "      <td>401871</td>\n",
              "      <td>421937</td>\n",
              "      <td>457403</td>\n",
              "      <td>486524</td>\n",
              "      <td>514854</td>\n",
              "      <td>532367</td>\n",
              "      <td>541420</td>\n",
              "      <td>555265</td>\n",
              "      <td>...</td>\n",
              "      <td>3933031</td>\n",
              "      <td>4088423</td>\n",
              "      <td>4629829</td>\n",
              "      <td>5079607</td>\n",
              "      <td>5447856</td>\n",
              "      <td>5730317</td>\n",
              "      <td>6001154</td>\n",
              "      <td>6281841</td>\n",
              "      <td>6551874</td>\n",
              "      <td>6778045</td>\n",
              "      <td>7087388</td>\n",
              "      <td>7302932</td>\n",
              "      <td>7494082</td>\n",
              "      <td>7648949</td>\n",
              "      <td>7828824</td>\n",
              "      <td>7960999</td>\n",
              "      <td>8148966</td>\n",
              "      <td>8368783</td>\n",
              "      <td>8642055</td>\n",
              "      <td>8884880</td>\n",
              "      <td>9047885</td>\n",
              "      <td>9269733</td>\n",
              "      <td>9358610</td>\n",
              "      <td>9446897</td>\n",
              "      <td>9524743</td>\n",
              "      <td>9585665</td>\n",
              "      <td>9637618</td>\n",
              "      <td>9929240</td>\n",
              "      <td>9944522</td>\n",
              "      <td>9945975</td>\n",
              "      <td>9955383</td>\n",
              "      <td>9956358</td>\n",
              "      <td>9956777</td>\n",
              "      <td>9958643</td>\n",
              "      <td>9960012</td>\n",
              "      <td>9961744</td>\n",
              "      <td>9963105</td>\n",
              "      <td>9963626</td>\n",
              "      <td>9964227</td>\n",
              "      <td>9970890</td>\n",
              "    </tr>\n",
              "    <tr>\n",
              "      <th>2</th>\n",
              "      <td>segunda_dosis</td>\n",
              "      <td>0</td>\n",
              "      <td>0</td>\n",
              "      <td>0</td>\n",
              "      <td>0</td>\n",
              "      <td>1962</td>\n",
              "      <td>3708</td>\n",
              "      <td>6228</td>\n",
              "      <td>6228</td>\n",
              "      <td>6228</td>\n",
              "      <td>6228</td>\n",
              "      <td>6228</td>\n",
              "      <td>6228</td>\n",
              "      <td>6228</td>\n",
              "      <td>20137</td>\n",
              "      <td>20137</td>\n",
              "      <td>38205</td>\n",
              "      <td>38647</td>\n",
              "      <td>38653</td>\n",
              "      <td>58357</td>\n",
              "      <td>60358</td>\n",
              "      <td>62537</td>\n",
              "      <td>78204</td>\n",
              "      <td>89349</td>\n",
              "      <td>106589</td>\n",
              "      <td>112624</td>\n",
              "      <td>112624</td>\n",
              "      <td>142782</td>\n",
              "      <td>146952</td>\n",
              "      <td>160132</td>\n",
              "      <td>167933</td>\n",
              "      <td>170276</td>\n",
              "      <td>175840</td>\n",
              "      <td>179292</td>\n",
              "      <td>186299</td>\n",
              "      <td>188986</td>\n",
              "      <td>196350</td>\n",
              "      <td>200350</td>\n",
              "      <td>202517</td>\n",
              "      <td>210224</td>\n",
              "      <td>...</td>\n",
              "      <td>1686084</td>\n",
              "      <td>1697724</td>\n",
              "      <td>1754033</td>\n",
              "      <td>1811269</td>\n",
              "      <td>1833845</td>\n",
              "      <td>1861422</td>\n",
              "      <td>1881825</td>\n",
              "      <td>1896486</td>\n",
              "      <td>1916003</td>\n",
              "      <td>1929259</td>\n",
              "      <td>1968499</td>\n",
              "      <td>1992419</td>\n",
              "      <td>2016586</td>\n",
              "      <td>2028931</td>\n",
              "      <td>2051577</td>\n",
              "      <td>2090177</td>\n",
              "      <td>2146056</td>\n",
              "      <td>2215238</td>\n",
              "      <td>2287730</td>\n",
              "      <td>2337059</td>\n",
              "      <td>2371921</td>\n",
              "      <td>2462728</td>\n",
              "      <td>2559190</td>\n",
              "      <td>2691724</td>\n",
              "      <td>2859366</td>\n",
              "      <td>3063873</td>\n",
              "      <td>3246001</td>\n",
              "      <td>3422242</td>\n",
              "      <td>4152609</td>\n",
              "      <td>4417050</td>\n",
              "      <td>4622931</td>\n",
              "      <td>4727968</td>\n",
              "      <td>4785653</td>\n",
              "      <td>5557594</td>\n",
              "      <td>5919425</td>\n",
              "      <td>6273354</td>\n",
              "      <td>6537132</td>\n",
              "      <td>6729500</td>\n",
              "      <td>6871506</td>\n",
              "      <td>7096816</td>\n",
              "    </tr>\n",
              "  </tbody>\n",
              "</table>\n",
              "<p>3 rows × 139 columns</p>\n",
              "</div>"
            ],
            "text/plain": [
              "           dosis  0    1     2  ...       134       135       136     Total\n",
              "0    dosis_total  0  108  2982  ...  16500237  16693126  16835733  17067706\n",
              "1  primera_dosis  0  108  2982  ...   9963105   9963626   9964227   9970890\n",
              "2  segunda_dosis  0    0     0  ...   6537132   6729500   6871506   7096816\n",
              "\n",
              "[3 rows x 139 columns]"
            ]
          },
          "metadata": {},
          "execution_count": 51
        }
      ]
    },
    {
      "cell_type": "markdown",
      "metadata": {
        "id": "b4_v7nYTfZFz"
      },
      "source": [
        "Cantidad de personas fallecidas por COVID 19, agrupadas por provincias del Ecuador."
      ],
      "id": "b4_v7nYTfZFz"
    },
    {
      "cell_type": "code",
      "metadata": {
        "colab": {
          "base_uri": "https://localhost:8080/",
          "height": 542
        },
        "id": "p4x2xDVUQE_7",
        "outputId": "845ab6ba-1cdf-455b-9ff3-e77b1db5317b"
      },
      "source": [
        "import plotly.express as px\n",
        "import pandas as pd\n",
        "df = pd.read_csv('https://raw.githubusercontent.com/andrab/ecuacovid/master/datos_crudos/muertes/provincias.csv')\n",
        "\n",
        "df=df.loc[df[\"created_at\"].between('23/07/2021', '24/08/2021')]\n",
        "df\n",
        "fig = px.pie(df, values='total', names='provincia', title='Porcentaje de fallecidos por COVID 19 en Ecuador por provincia')\n",
        "fig.show()"
      ],
      "id": "p4x2xDVUQE_7",
      "execution_count": 53,
      "outputs": [
        {
          "output_type": "display_data",
          "data": {
            "text/html": [
              "<html>\n",
              "<head><meta charset=\"utf-8\" /></head>\n",
              "<body>\n",
              "    <div>\n",
              "            <script src=\"https://cdnjs.cloudflare.com/ajax/libs/mathjax/2.7.5/MathJax.js?config=TeX-AMS-MML_SVG\"></script><script type=\"text/javascript\">if (window.MathJax) {MathJax.Hub.Config({SVG: {font: \"STIX-Web\"}});}</script>\n",
              "                <script type=\"text/javascript\">window.PlotlyConfig = {MathJaxConfig: 'local'};</script>\n",
              "        <script src=\"https://cdn.plot.ly/plotly-latest.min.js\"></script>    \n",
              "            <div id=\"3c15d5f9-e5b2-4804-ad9d-ad8c21f022cd\" class=\"plotly-graph-div\" style=\"height:525px; width:100%;\"></div>\n",
              "            <script type=\"text/javascript\">\n",
              "                \n",
              "                    window.PLOTLYENV=window.PLOTLYENV || {};\n",
              "                    \n",
              "                if (document.getElementById(\"3c15d5f9-e5b2-4804-ad9d-ad8c21f022cd\")) {\n",
              "                    Plotly.newPlot(\n",
              "                        '3c15d5f9-e5b2-4804-ad9d-ad8c21f022cd',\n",
              "                        [{\"domain\": {\"x\": [0.0, 1.0], \"y\": [0.0, 1.0]}, \"hoverlabel\": {\"namelength\": 0}, \"hovertemplate\": \"provincia=%{label}<br>total=%{value}\", \"labels\": [\"Azuay\", \"Bol\\u00edvar\", \"Carchi\", \"Ca\\u00f1ar\", \"Chimborazo\", \"Cotopaxi\", \"El Oro\", \"Esmeraldas\", \"Gal\\u00e1pagos\", \"Guayas\", \"Imbabura\", \"Loja\", \"Los R\\u00edos\", \"Manab\\u00ed\", \"Morona Santiago\", \"Napo\", \"Orellana\", \"Pastaza\", \"Pichincha\", \"Santa Elena\", \"Sto. Domingo Ts\\u00e1chilas\", \"Sucumb\\u00edos\", \"Tungurahua\", \"Zamora Chinchipe\", \"Azuay\", \"Bol\\u00edvar\", \"Carchi\", \"Ca\\u00f1ar\", \"Chimborazo\", \"Cotopaxi\", \"El Oro\", \"Esmeraldas\", \"Gal\\u00e1pagos\", \"Guayas\", \"Imbabura\", \"Loja\", \"Los R\\u00edos\", \"Manab\\u00ed\", \"Morona Santiago\", \"Napo\", \"Orellana\", \"Pastaza\", \"Pichincha\", \"Santa Elena\", \"Sto. Domingo Ts\\u00e1chilas\", \"Sucumb\\u00edos\", \"Tungurahua\", \"Zamora Chinchipe\", \"Azuay\", \"Bol\\u00edvar\", \"Carchi\", \"Ca\\u00f1ar\", \"Chimborazo\", \"Cotopaxi\", \"El Oro\", \"Esmeraldas\", \"Gal\\u00e1pagos\", \"Guayas\", \"Imbabura\", \"Loja\", \"Los R\\u00edos\", \"Manab\\u00ed\", \"Morona Santiago\", \"Napo\", \"Orellana\", \"Pastaza\", \"Pichincha\", \"Santa Elena\", \"Sto. Domingo Ts\\u00e1chilas\", \"Sucumb\\u00edos\", \"Tungurahua\", \"Zamora Chinchipe\", \"Azuay\", \"Bol\\u00edvar\", \"Carchi\", \"Ca\\u00f1ar\", \"Chimborazo\", \"Cotopaxi\", \"El Oro\", \"Esmeraldas\", \"Gal\\u00e1pagos\", \"Guayas\", \"Imbabura\", \"Loja\", \"Los R\\u00edos\", \"Manab\\u00ed\", \"Morona Santiago\", \"Napo\", \"Orellana\", \"Pastaza\", \"Pichincha\", \"Santa Elena\", \"Sto. Domingo Ts\\u00e1chilas\", \"Sucumb\\u00edos\", \"Tungurahua\", \"Zamora Chinchipe\", \"Azuay\", \"Bol\\u00edvar\", \"Carchi\", \"Ca\\u00f1ar\", \"Chimborazo\", \"Cotopaxi\", \"El Oro\", \"Esmeraldas\", \"Gal\\u00e1pagos\", \"Guayas\", \"Imbabura\", \"Loja\", \"Los R\\u00edos\", \"Manab\\u00ed\", \"Morona Santiago\", \"Napo\", \"Orellana\", \"Pastaza\", \"Pichincha\", \"Santa Elena\", \"Sto. Domingo Ts\\u00e1chilas\", \"Sucumb\\u00edos\", \"Tungurahua\", \"Zamora Chinchipe\", \"Azuay\", \"Bol\\u00edvar\", \"Carchi\", \"Ca\\u00f1ar\", \"Chimborazo\", \"Cotopaxi\", \"El Oro\", \"Esmeraldas\", \"Gal\\u00e1pagos\", \"Guayas\", \"Imbabura\", \"Loja\", \"Los R\\u00edos\", \"Manab\\u00ed\", \"Morona Santiago\", \"Napo\", \"Orellana\", \"Pastaza\", \"Pichincha\", \"Santa Elena\", \"Sto. Domingo Ts\\u00e1chilas\", \"Sucumb\\u00edos\", \"Tungurahua\", \"Zamora Chinchipe\", \"Azuay\", \"Bol\\u00edvar\", \"Carchi\", \"Ca\\u00f1ar\", \"Chimborazo\", \"Cotopaxi\", \"El Oro\", \"Esmeraldas\", \"Gal\\u00e1pagos\", \"Guayas\", \"Imbabura\", \"Loja\", \"Los R\\u00edos\", \"Manab\\u00ed\", \"Morona Santiago\", \"Napo\", \"Orellana\", \"Pastaza\", \"Pichincha\", \"Santa Elena\", \"Sto. Domingo Ts\\u00e1chilas\", \"Sucumb\\u00edos\", \"Tungurahua\", \"Zamora Chinchipe\"], \"legendgroup\": \"\", \"name\": \"\", \"showlegend\": true, \"type\": \"pie\", \"values\": [249, 73, 156, 108, 366, 331, 610, 246, 7, 1925, 228, 255, 365, 1378, 38, 80, 55, 65, 2083, 406, 401, 107, 380, 56, 301, 80, 184, 110, 396, 374, 715, 265, 8, 2059, 251, 288, 379, 1549, 41, 83, 59, 67, 2215, 410, 450, 109, 431, 59, 324, 84, 204, 115, 407, 397, 765, 290, 9, 2124, 277, 342, 398, 1715, 47, 90, 62, 72, 2456, 410, 508, 119, 437, 68, 372, 98, 228, 125, 417, 413, 871, 344, 9, 2310, 326, 452, 431, 2026, 54, 94, 66, 74, 2707, 410, 583, 146, 443, 86, 479, 105, 263, 132, 517, 492, 1021, 376, 10, 2557, 390, 534, 465, 2394, 57, 103, 79, 83, 2934, 413, 641, 167, 468, 93, 508, 111, 280, 137, 523, 576, 1086, 386, 10, 2715, 413, 556, 487, 2509, 59, 107, 93, 87, 3150, 424, 693, 173, 595, 100, 1096, 152, 293, 256, 693, 673, 1326, 467, 11, 3904, 638, 684, 696, 2817, 118, 113, 110, 115, 4901, 376, 783, 221, 877, 126]}],\n",
              "                        {\"legend\": {\"tracegroupgap\": 0}, \"template\": {\"data\": {\"bar\": [{\"error_x\": {\"color\": \"#2a3f5f\"}, \"error_y\": {\"color\": \"#2a3f5f\"}, \"marker\": {\"line\": {\"color\": \"#E5ECF6\", \"width\": 0.5}}, \"type\": \"bar\"}], \"barpolar\": [{\"marker\": {\"line\": {\"color\": \"#E5ECF6\", \"width\": 0.5}}, \"type\": \"barpolar\"}], \"carpet\": [{\"aaxis\": {\"endlinecolor\": \"#2a3f5f\", \"gridcolor\": \"white\", \"linecolor\": \"white\", \"minorgridcolor\": \"white\", \"startlinecolor\": \"#2a3f5f\"}, \"baxis\": {\"endlinecolor\": \"#2a3f5f\", \"gridcolor\": \"white\", \"linecolor\": \"white\", \"minorgridcolor\": \"white\", \"startlinecolor\": \"#2a3f5f\"}, \"type\": \"carpet\"}], \"choropleth\": [{\"colorbar\": {\"outlinewidth\": 0, \"ticks\": \"\"}, \"type\": \"choropleth\"}], \"contour\": [{\"colorbar\": {\"outlinewidth\": 0, \"ticks\": \"\"}, \"colorscale\": [[0.0, \"#0d0887\"], [0.1111111111111111, \"#46039f\"], [0.2222222222222222, \"#7201a8\"], [0.3333333333333333, \"#9c179e\"], [0.4444444444444444, \"#bd3786\"], [0.5555555555555556, \"#d8576b\"], [0.6666666666666666, \"#ed7953\"], [0.7777777777777778, \"#fb9f3a\"], [0.8888888888888888, \"#fdca26\"], [1.0, \"#f0f921\"]], \"type\": \"contour\"}], \"contourcarpet\": [{\"colorbar\": {\"outlinewidth\": 0, \"ticks\": \"\"}, \"type\": \"contourcarpet\"}], \"heatmap\": [{\"colorbar\": {\"outlinewidth\": 0, \"ticks\": \"\"}, \"colorscale\": [[0.0, \"#0d0887\"], [0.1111111111111111, \"#46039f\"], [0.2222222222222222, \"#7201a8\"], [0.3333333333333333, \"#9c179e\"], [0.4444444444444444, \"#bd3786\"], [0.5555555555555556, \"#d8576b\"], [0.6666666666666666, \"#ed7953\"], [0.7777777777777778, \"#fb9f3a\"], [0.8888888888888888, \"#fdca26\"], [1.0, \"#f0f921\"]], \"type\": \"heatmap\"}], \"heatmapgl\": [{\"colorbar\": {\"outlinewidth\": 0, \"ticks\": \"\"}, \"colorscale\": [[0.0, \"#0d0887\"], [0.1111111111111111, \"#46039f\"], [0.2222222222222222, \"#7201a8\"], [0.3333333333333333, \"#9c179e\"], [0.4444444444444444, \"#bd3786\"], [0.5555555555555556, \"#d8576b\"], [0.6666666666666666, \"#ed7953\"], [0.7777777777777778, \"#fb9f3a\"], [0.8888888888888888, \"#fdca26\"], [1.0, \"#f0f921\"]], \"type\": \"heatmapgl\"}], \"histogram\": [{\"marker\": {\"colorbar\": {\"outlinewidth\": 0, \"ticks\": \"\"}}, \"type\": \"histogram\"}], \"histogram2d\": [{\"colorbar\": {\"outlinewidth\": 0, \"ticks\": \"\"}, \"colorscale\": [[0.0, \"#0d0887\"], [0.1111111111111111, \"#46039f\"], [0.2222222222222222, \"#7201a8\"], [0.3333333333333333, \"#9c179e\"], [0.4444444444444444, \"#bd3786\"], [0.5555555555555556, \"#d8576b\"], [0.6666666666666666, \"#ed7953\"], [0.7777777777777778, \"#fb9f3a\"], [0.8888888888888888, \"#fdca26\"], [1.0, \"#f0f921\"]], \"type\": \"histogram2d\"}], \"histogram2dcontour\": [{\"colorbar\": {\"outlinewidth\": 0, \"ticks\": \"\"}, \"colorscale\": [[0.0, \"#0d0887\"], [0.1111111111111111, \"#46039f\"], [0.2222222222222222, \"#7201a8\"], [0.3333333333333333, \"#9c179e\"], [0.4444444444444444, \"#bd3786\"], [0.5555555555555556, \"#d8576b\"], [0.6666666666666666, \"#ed7953\"], [0.7777777777777778, \"#fb9f3a\"], [0.8888888888888888, \"#fdca26\"], [1.0, \"#f0f921\"]], \"type\": \"histogram2dcontour\"}], \"mesh3d\": [{\"colorbar\": {\"outlinewidth\": 0, \"ticks\": \"\"}, \"type\": \"mesh3d\"}], \"parcoords\": [{\"line\": {\"colorbar\": {\"outlinewidth\": 0, \"ticks\": \"\"}}, \"type\": \"parcoords\"}], \"pie\": [{\"automargin\": true, \"type\": \"pie\"}], \"scatter\": [{\"marker\": {\"colorbar\": {\"outlinewidth\": 0, \"ticks\": \"\"}}, \"type\": \"scatter\"}], \"scatter3d\": [{\"line\": {\"colorbar\": {\"outlinewidth\": 0, \"ticks\": \"\"}}, \"marker\": {\"colorbar\": {\"outlinewidth\": 0, \"ticks\": \"\"}}, \"type\": \"scatter3d\"}], \"scattercarpet\": [{\"marker\": {\"colorbar\": {\"outlinewidth\": 0, \"ticks\": \"\"}}, \"type\": \"scattercarpet\"}], \"scattergeo\": [{\"marker\": {\"colorbar\": {\"outlinewidth\": 0, \"ticks\": \"\"}}, \"type\": \"scattergeo\"}], \"scattergl\": [{\"marker\": {\"colorbar\": {\"outlinewidth\": 0, \"ticks\": \"\"}}, \"type\": \"scattergl\"}], \"scattermapbox\": [{\"marker\": {\"colorbar\": {\"outlinewidth\": 0, \"ticks\": \"\"}}, \"type\": \"scattermapbox\"}], \"scatterpolar\": [{\"marker\": {\"colorbar\": {\"outlinewidth\": 0, \"ticks\": \"\"}}, \"type\": \"scatterpolar\"}], \"scatterpolargl\": [{\"marker\": {\"colorbar\": {\"outlinewidth\": 0, \"ticks\": \"\"}}, \"type\": \"scatterpolargl\"}], \"scatterternary\": [{\"marker\": {\"colorbar\": {\"outlinewidth\": 0, \"ticks\": \"\"}}, \"type\": \"scatterternary\"}], \"surface\": [{\"colorbar\": {\"outlinewidth\": 0, \"ticks\": \"\"}, \"colorscale\": [[0.0, \"#0d0887\"], [0.1111111111111111, \"#46039f\"], [0.2222222222222222, \"#7201a8\"], [0.3333333333333333, \"#9c179e\"], [0.4444444444444444, \"#bd3786\"], [0.5555555555555556, \"#d8576b\"], [0.6666666666666666, \"#ed7953\"], [0.7777777777777778, \"#fb9f3a\"], [0.8888888888888888, \"#fdca26\"], [1.0, \"#f0f921\"]], \"type\": \"surface\"}], \"table\": [{\"cells\": {\"fill\": {\"color\": \"#EBF0F8\"}, \"line\": {\"color\": \"white\"}}, \"header\": {\"fill\": {\"color\": \"#C8D4E3\"}, \"line\": {\"color\": \"white\"}}, \"type\": \"table\"}]}, \"layout\": {\"annotationdefaults\": {\"arrowcolor\": \"#2a3f5f\", \"arrowhead\": 0, \"arrowwidth\": 1}, \"coloraxis\": {\"colorbar\": {\"outlinewidth\": 0, \"ticks\": \"\"}}, \"colorscale\": {\"diverging\": [[0, \"#8e0152\"], [0.1, \"#c51b7d\"], [0.2, \"#de77ae\"], [0.3, \"#f1b6da\"], [0.4, \"#fde0ef\"], [0.5, \"#f7f7f7\"], [0.6, \"#e6f5d0\"], [0.7, \"#b8e186\"], [0.8, \"#7fbc41\"], [0.9, \"#4d9221\"], [1, \"#276419\"]], \"sequential\": [[0.0, \"#0d0887\"], [0.1111111111111111, \"#46039f\"], [0.2222222222222222, \"#7201a8\"], [0.3333333333333333, \"#9c179e\"], [0.4444444444444444, \"#bd3786\"], [0.5555555555555556, \"#d8576b\"], [0.6666666666666666, \"#ed7953\"], [0.7777777777777778, \"#fb9f3a\"], [0.8888888888888888, \"#fdca26\"], [1.0, \"#f0f921\"]], \"sequentialminus\": [[0.0, \"#0d0887\"], [0.1111111111111111, \"#46039f\"], [0.2222222222222222, \"#7201a8\"], [0.3333333333333333, \"#9c179e\"], [0.4444444444444444, \"#bd3786\"], [0.5555555555555556, \"#d8576b\"], [0.6666666666666666, \"#ed7953\"], [0.7777777777777778, \"#fb9f3a\"], [0.8888888888888888, \"#fdca26\"], [1.0, \"#f0f921\"]]}, \"colorway\": [\"#636efa\", \"#EF553B\", \"#00cc96\", \"#ab63fa\", \"#FFA15A\", \"#19d3f3\", \"#FF6692\", \"#B6E880\", \"#FF97FF\", \"#FECB52\"], \"font\": {\"color\": \"#2a3f5f\"}, \"geo\": {\"bgcolor\": \"white\", \"lakecolor\": \"white\", \"landcolor\": \"#E5ECF6\", \"showlakes\": true, \"showland\": true, \"subunitcolor\": \"white\"}, \"hoverlabel\": {\"align\": \"left\"}, \"hovermode\": \"closest\", \"mapbox\": {\"style\": \"light\"}, \"paper_bgcolor\": \"white\", \"plot_bgcolor\": \"#E5ECF6\", \"polar\": {\"angularaxis\": {\"gridcolor\": \"white\", \"linecolor\": \"white\", \"ticks\": \"\"}, \"bgcolor\": \"#E5ECF6\", \"radialaxis\": {\"gridcolor\": \"white\", \"linecolor\": \"white\", \"ticks\": \"\"}}, \"scene\": {\"xaxis\": {\"backgroundcolor\": \"#E5ECF6\", \"gridcolor\": \"white\", \"gridwidth\": 2, \"linecolor\": \"white\", \"showbackground\": true, \"ticks\": \"\", \"zerolinecolor\": \"white\"}, \"yaxis\": {\"backgroundcolor\": \"#E5ECF6\", \"gridcolor\": \"white\", \"gridwidth\": 2, \"linecolor\": \"white\", \"showbackground\": true, \"ticks\": \"\", \"zerolinecolor\": \"white\"}, \"zaxis\": {\"backgroundcolor\": \"#E5ECF6\", \"gridcolor\": \"white\", \"gridwidth\": 2, \"linecolor\": \"white\", \"showbackground\": true, \"ticks\": \"\", \"zerolinecolor\": \"white\"}}, \"shapedefaults\": {\"line\": {\"color\": \"#2a3f5f\"}}, \"ternary\": {\"aaxis\": {\"gridcolor\": \"white\", \"linecolor\": \"white\", \"ticks\": \"\"}, \"baxis\": {\"gridcolor\": \"white\", \"linecolor\": \"white\", \"ticks\": \"\"}, \"bgcolor\": \"#E5ECF6\", \"caxis\": {\"gridcolor\": \"white\", \"linecolor\": \"white\", \"ticks\": \"\"}}, \"title\": {\"x\": 0.05}, \"xaxis\": {\"automargin\": true, \"gridcolor\": \"white\", \"linecolor\": \"white\", \"ticks\": \"\", \"title\": {\"standoff\": 15}, \"zerolinecolor\": \"white\", \"zerolinewidth\": 2}, \"yaxis\": {\"automargin\": true, \"gridcolor\": \"white\", \"linecolor\": \"white\", \"ticks\": \"\", \"title\": {\"standoff\": 15}, \"zerolinecolor\": \"white\", \"zerolinewidth\": 2}}}, \"title\": {\"text\": \"Porcentaje de fallecidos por COVID 19 en Ecuador por provincia\"}},\n",
              "                        {\"responsive\": true}\n",
              "                    ).then(function(){\n",
              "                            \n",
              "var gd = document.getElementById('3c15d5f9-e5b2-4804-ad9d-ad8c21f022cd');\n",
              "var x = new MutationObserver(function (mutations, observer) {{\n",
              "        var display = window.getComputedStyle(gd).display;\n",
              "        if (!display || display === 'none') {{\n",
              "            console.log([gd, 'removed!']);\n",
              "            Plotly.purge(gd);\n",
              "            observer.disconnect();\n",
              "        }}\n",
              "}});\n",
              "\n",
              "// Listen for the removal of the full notebook cells\n",
              "var notebookContainer = gd.closest('#notebook-container');\n",
              "if (notebookContainer) {{\n",
              "    x.observe(notebookContainer, {childList: true});\n",
              "}}\n",
              "\n",
              "// Listen for the clearing of the current output cell\n",
              "var outputEl = gd.closest('.output');\n",
              "if (outputEl) {{\n",
              "    x.observe(outputEl, {childList: true});\n",
              "}}\n",
              "\n",
              "                        })\n",
              "                };\n",
              "                \n",
              "            </script>\n",
              "        </div>\n",
              "</body>\n",
              "</html>"
            ]
          },
          "metadata": {}
        }
      ]
    },
    {
      "cell_type": "markdown",
      "metadata": {
        "id": "0fh_52DFi0vN"
      },
      "source": [
        "Cantidad de fallecimientos por provincias"
      ],
      "id": "0fh_52DFi0vN"
    },
    {
      "cell_type": "code",
      "metadata": {
        "colab": {
          "base_uri": "https://localhost:8080/",
          "height": 203
        },
        "id": "lHMou1sif_3s",
        "outputId": "f97fd789-29fa-4b6e-a4f4-7a6e9456e870"
      },
      "source": [
        "df.head()"
      ],
      "id": "lHMou1sif_3s",
      "execution_count": 58,
      "outputs": [
        {
          "output_type": "execute_result",
          "data": {
            "text/html": [
              "<div>\n",
              "<style scoped>\n",
              "    .dataframe tbody tr th:only-of-type {\n",
              "        vertical-align: middle;\n",
              "    }\n",
              "\n",
              "    .dataframe tbody tr th {\n",
              "        vertical-align: top;\n",
              "    }\n",
              "\n",
              "    .dataframe thead th {\n",
              "        text-align: right;\n",
              "    }\n",
              "</style>\n",
              "<table border=\"1\" class=\"dataframe\">\n",
              "  <thead>\n",
              "    <tr style=\"text-align: right;\">\n",
              "      <th></th>\n",
              "      <th>provincia</th>\n",
              "      <th>poblacion</th>\n",
              "      <th>total</th>\n",
              "      <th>nuevas</th>\n",
              "      <th>probables</th>\n",
              "      <th>lat</th>\n",
              "      <th>lng</th>\n",
              "      <th>created_at</th>\n",
              "    </tr>\n",
              "  </thead>\n",
              "  <tbody>\n",
              "    <tr>\n",
              "      <th>552</th>\n",
              "      <td>Azuay</td>\n",
              "      <td>881394</td>\n",
              "      <td>249</td>\n",
              "      <td>0</td>\n",
              "      <td>20</td>\n",
              "      <td>-2.897414</td>\n",
              "      <td>-79.004481</td>\n",
              "      <td>24/01/2021</td>\n",
              "    </tr>\n",
              "    <tr>\n",
              "      <th>553</th>\n",
              "      <td>Bolívar</td>\n",
              "      <td>209933</td>\n",
              "      <td>73</td>\n",
              "      <td>0</td>\n",
              "      <td>15</td>\n",
              "      <td>-1.605556</td>\n",
              "      <td>-79.003056</td>\n",
              "      <td>24/01/2021</td>\n",
              "    </tr>\n",
              "    <tr>\n",
              "      <th>554</th>\n",
              "      <td>Carchi</td>\n",
              "      <td>186869</td>\n",
              "      <td>156</td>\n",
              "      <td>2</td>\n",
              "      <td>2</td>\n",
              "      <td>0.812180</td>\n",
              "      <td>-77.716330</td>\n",
              "      <td>24/01/2021</td>\n",
              "    </tr>\n",
              "    <tr>\n",
              "      <th>555</th>\n",
              "      <td>Cañar</td>\n",
              "      <td>281396</td>\n",
              "      <td>108</td>\n",
              "      <td>0</td>\n",
              "      <td>6</td>\n",
              "      <td>-2.733333</td>\n",
              "      <td>-78.833333</td>\n",
              "      <td>24/01/2021</td>\n",
              "    </tr>\n",
              "    <tr>\n",
              "      <th>556</th>\n",
              "      <td>Chimborazo</td>\n",
              "      <td>524004</td>\n",
              "      <td>366</td>\n",
              "      <td>0</td>\n",
              "      <td>124</td>\n",
              "      <td>-1.674347</td>\n",
              "      <td>-78.648294</td>\n",
              "      <td>24/01/2021</td>\n",
              "    </tr>\n",
              "  </tbody>\n",
              "</table>\n",
              "</div>"
            ],
            "text/plain": [
              "      provincia  poblacion  total  ...       lat        lng  created_at\n",
              "552       Azuay     881394    249  ... -2.897414 -79.004481  24/01/2021\n",
              "553     Bolívar     209933     73  ... -1.605556 -79.003056  24/01/2021\n",
              "554      Carchi     186869    156  ...  0.812180 -77.716330  24/01/2021\n",
              "555       Cañar     281396    108  ... -2.733333 -78.833333  24/01/2021\n",
              "556  Chimborazo     524004    366  ... -1.674347 -78.648294  24/01/2021\n",
              "\n",
              "[5 rows x 8 columns]"
            ]
          },
          "metadata": {},
          "execution_count": 58
        }
      ]
    },
    {
      "cell_type": "code",
      "metadata": {
        "id": "F2sGP2EVix6n",
        "outputId": "3c80553a-ec9a-44a1-f323-ffa1590271d7",
        "colab": {
          "base_uri": "https://localhost:8080/"
        }
      },
      "source": [
        "df.shape"
      ],
      "id": "F2sGP2EVix6n",
      "execution_count": 66,
      "outputs": [
        {
          "output_type": "execute_result",
          "data": {
            "text/plain": [
              "(168, 8)"
            ]
          },
          "metadata": {},
          "execution_count": 66
        }
      ]
    }
  ]
}